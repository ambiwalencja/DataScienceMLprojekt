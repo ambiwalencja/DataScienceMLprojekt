{
 "cells": [
  {
   "cell_type": "markdown",
   "id": "71db2086",
   "metadata": {},
   "source": [
    "# Lending Club - model klasyfikacyjny, przewidujący spłacenie pożyczki \n",
    "#### Projekt końcowy Machine Learning Helena Sokołowska"
   ]
  },
  {
   "cell_type": "code",
   "execution_count": 1,
   "id": "7e77b9aa",
   "metadata": {},
   "outputs": [],
   "source": [
    "import pandas as pd\n",
    "import numpy as np\n",
    "import matplotlib.pyplot as plt\n",
    "# import seaborn as sns"
   ]
  },
  {
   "cell_type": "code",
   "execution_count": 2,
   "id": "06fb97d2",
   "metadata": {},
   "outputs": [],
   "source": [
    "import processing # importuję plik z funkcjami w pythonie"
   ]
  },
  {
   "cell_type": "code",
   "execution_count": 3,
   "id": "6657466f",
   "metadata": {},
   "outputs": [],
   "source": [
    "# wyłączam ostrzeżenia\n",
    "pd.options.mode.chained_assignment = None  # default='warn'"
   ]
  },
  {
   "cell_type": "code",
   "execution_count": 4,
   "id": "97c52db6",
   "metadata": {},
   "outputs": [
    {
     "name": "stderr",
     "output_type": "stream",
     "text": [
      "C:\\Users\\Hela\\AppData\\Local\\Temp\\ipykernel_10372\\481423048.py:1: DtypeWarning: Columns (0,49) have mixed types. Specify dtype option on import or set low_memory=False.\n",
      "  df=pd.read_csv(\"Loan_data.csv\")\n"
     ]
    }
   ],
   "source": [
    "df=pd.read_csv(\"Loan_data.csv\")"
   ]
  },
  {
   "cell_type": "code",
   "execution_count": 5,
   "id": "c1d8f917",
   "metadata": {},
   "outputs": [
    {
     "data": {
      "text/plain": [
       "(42536, 151)"
      ]
     },
     "execution_count": 5,
     "metadata": {},
     "output_type": "execute_result"
    }
   ],
   "source": [
    "df.shape\n",
    "# mamy 151 kolumn i 42536 obserwacji"
   ]
  },
  {
   "cell_type": "markdown",
   "id": "b19ff72c",
   "metadata": {},
   "source": [
    "## 1. Obróbka danych"
   ]
  },
  {
   "cell_type": "markdown",
   "id": "925f2325",
   "metadata": {},
   "source": [
    "#### Usuwanie niepotrzebnych kolumn"
   ]
  },
  {
   "cell_type": "code",
   "execution_count": 6,
   "id": "0ea987c0",
   "metadata": {},
   "outputs": [
    {
     "data": {
      "text/plain": [
       "(42536, 60)"
      ]
     },
     "execution_count": 6,
     "metadata": {},
     "output_type": "execute_result"
    }
   ],
   "source": [
    "# wyrzucanie kolumn z dużym odsetkiem brakujących wartości - dokładnie wyższym niż 60%\n",
    "thresh = len(df) * 0.6\n",
    "df = df.dropna(thresh = thresh, axis = 1)\n",
    "df.shape"
   ]
  },
  {
   "cell_type": "code",
   "execution_count": 7,
   "id": "9c78b646",
   "metadata": {},
   "outputs": [],
   "source": [
    "# usuwam kolumny z informacjami, które nie będą przydatne w analizie: opisowe, takie, które są dla\n",
    "# każdej obserwacji inne\n",
    "df = df.drop(columns = ['id','url','title','emp_title', 'desc'])\n",
    "\n",
    "# z tego mogłabym wyciągnąć jakieś informacje, może powtarzające się firmy, może z firm wyciągnąć branże\n",
    "# generalnie to nie musi, ale może mieć jakiś wpływ"
   ]
  },
  {
   "cell_type": "code",
   "execution_count": 8,
   "id": "9fbfa9be",
   "metadata": {},
   "outputs": [
    {
     "data": {
      "text/plain": [
       "838"
      ]
     },
     "execution_count": 8,
     "metadata": {},
     "output_type": "execute_result"
    }
   ],
   "source": [
    "# zip_code\n",
    "len(list(df['zip_code'].unique()))"
   ]
  },
  {
   "cell_type": "code",
   "execution_count": 9,
   "id": "3190e808",
   "metadata": {},
   "outputs": [
    {
     "data": {
      "text/plain": [
       "51"
      ]
     },
     "execution_count": 9,
     "metadata": {},
     "output_type": "execute_result"
    }
   ],
   "source": [
    "# addr_state\n",
    "len(list(df['addr_state'].unique()))"
   ]
  },
  {
   "cell_type": "markdown",
   "id": "8aa4110c",
   "metadata": {},
   "source": [
    "Zmienne zip_code i addr_state są zmiennymi tekstowymi, kategorycznymi o zbyt wielu wartościach, aby mogły być użyteczne w analizie. Zstawienie tak wielu wartości nienumerycznych może sprzyjać przeuczeniu modelu. Jednocześnie cięzko zrekodować te zmienne na takie o niewielkiej liczbie wartości ze względu na brak jednoznacznego klucza.\n",
    "Dodatkowo adres zamieszkania nie powinien wpływać na badane zjawisko, zatem te zmienne również decyduję się usunąć."
   ]
  },
  {
   "cell_type": "code",
   "execution_count": 10,
   "id": "5161ec04",
   "metadata": {},
   "outputs": [],
   "source": [
    "df = df.drop(columns = ['zip_code', 'addr_state'])"
   ]
  },
  {
   "cell_type": "markdown",
   "id": "9014e35d",
   "metadata": {},
   "source": [
    "Identyfikuję zmienne, które zawierają dane niedostępne w momencie składania wniosku o pożyczkę - takie jak płatności otrzymane do tej pory, opóźnienia, informacje po sfinansowaniu pożyczki.\n",
    "\n",
    "- 'total_pymnt' - płatności otrzymane do tej pory\n",
    "- 'total_pymnt_inv', - płatności otrzymane do tej pory - frakcja pochodząca od inwestorów\n",
    "- 'total_rec_prncp', - otrzymane płatności od kwoty głównej\n",
    "- 'total_rec_int', - otrzymane płatności od odsetek\n",
    "- 'total_rec_late_fee', - opóźnione opłaty\n",
    "- 'last_pymnt_d', - data ostatniej płatności\n",
    "- 'last_pymnt_amnt', - kwota ostatniej płatności\n",
    "- 'last_credit_pull_d', - osatni miesiąc, w którym LC wziął kredyt na tę pożyczkę\n",
    "- 'last_fico_range_high', - najnowsze FICO score pożyczkobiorcy - dolny próg (FICO score zmienia się w czasie i banki regularnie aktualizują w swoich bazach informacje na jego temat)\n",
    "- 'last_fico_range_low', - j.w. - górny próg\n",
    "\n",
    "Czyli jak widać po opisach, są to informacje dotyczące już udzielonej pożyczki i jej procesowania, a zatem nie możemy użyć ich do modelu, który ma dokonać przewidywań w momencie złożenia wniosku przez klienta.\n",
    "\n",
    "- 'issue_d' - miesiąc, w którym pożyczka została sfinansowana\n",
    "\n",
    "Ta ostatnia zmienna również jest daną, której nie mamy w momencie otrzymania wniosku, jednak nie mamy w zbiorze informacji o dacie wpłynięcia wniosku, a data sfinansowania pożyczki jest jej najbliższą aproksymacją, w związku z tym zostawiam zmienną w zbiorze."
   ]
  },
  {
   "cell_type": "code",
   "execution_count": 11,
   "id": "0755e918",
   "metadata": {},
   "outputs": [],
   "source": [
    "# usuwam kolumny z informacjami z przyszłości na podstawie ich opisów\n",
    "df = df.drop(columns = ['total_pymnt', 'total_pymnt_inv', 'total_rec_prncp', 'total_rec_int', 'total_rec_late_fee',\n",
    "                            'last_pymnt_d', 'last_pymnt_amnt', 'last_credit_pull_d', 'last_fico_range_high',\n",
    "                           'last_fico_range_low'])\n"
   ]
  },
  {
   "cell_type": "code",
   "execution_count": 12,
   "id": "ca224920",
   "metadata": {
    "scrolled": true
   },
   "outputs": [
    {
     "data": {
      "text/plain": [
       "array([[<AxesSubplot:title={'center':'loan_amnt'}>,\n",
       "        <AxesSubplot:title={'center':'funded_amnt'}>,\n",
       "        <AxesSubplot:title={'center':'funded_amnt_inv'}>,\n",
       "        <AxesSubplot:title={'center':'installment'}>,\n",
       "        <AxesSubplot:title={'center':'annual_inc'}>],\n",
       "       [<AxesSubplot:title={'center':'dti'}>,\n",
       "        <AxesSubplot:title={'center':'delinq_2yrs'}>,\n",
       "        <AxesSubplot:title={'center':'fico_range_low'}>,\n",
       "        <AxesSubplot:title={'center':'fico_range_high'}>,\n",
       "        <AxesSubplot:title={'center':'inq_last_6mths'}>],\n",
       "       [<AxesSubplot:title={'center':'open_acc'}>,\n",
       "        <AxesSubplot:title={'center':'pub_rec'}>,\n",
       "        <AxesSubplot:title={'center':'revol_bal'}>,\n",
       "        <AxesSubplot:title={'center':'total_acc'}>,\n",
       "        <AxesSubplot:title={'center':'out_prncp'}>],\n",
       "       [<AxesSubplot:title={'center':'out_prncp_inv'}>,\n",
       "        <AxesSubplot:title={'center':'recoveries'}>,\n",
       "        <AxesSubplot:title={'center':'collection_recovery_fee'}>,\n",
       "        <AxesSubplot:title={'center':'collections_12_mths_ex_med'}>,\n",
       "        <AxesSubplot:title={'center':'policy_code'}>],\n",
       "       [<AxesSubplot:title={'center':'acc_now_delinq'}>,\n",
       "        <AxesSubplot:title={'center':'chargeoff_within_12_mths'}>,\n",
       "        <AxesSubplot:title={'center':'delinq_amnt'}>,\n",
       "        <AxesSubplot:title={'center':'pub_rec_bankruptcies'}>,\n",
       "        <AxesSubplot:title={'center':'tax_liens'}>]], dtype=object)"
      ]
     },
     "execution_count": 12,
     "metadata": {},
     "output_type": "execute_result"
    },
    {
     "data": {
      "image/png": "[encoded data removed]",
      "text/plain": [
       "<Figure size 1440x1080 with 25 Axes>"
      ]
     },
     "metadata": {
      "needs_background": "light"
     },
     "output_type": "display_data"
    }
   ],
   "source": [
    "# patrzę na histogramy zmiennych, żeby wyłapać, czy jeszcze któreś z nich mają 90%+ jednej wartości\n",
    "df.hist(bins=30, figsize=(20, 15))"
   ]
  },
  {
   "cell_type": "code",
   "execution_count": 13,
   "id": "628407c8",
   "metadata": {},
   "outputs": [
    {
     "name": "stdout",
     "output_type": "stream",
     "text": [
      "annual_inc \n",
      " 17568.0     0.002351\n",
      "112455.0    0.002351\n",
      "48750.0     0.002351\n",
      "58179.0     0.002351\n",
      "105859.0    0.002351\n",
      "              ...   \n",
      "30000.0     2.078484\n",
      "45000.0     2.111401\n",
      "40000.0     2.198396\n",
      "50000.0     2.631022\n",
      "60000.0     3.740801\n",
      "Name: annual_inc, Length: 5597, dtype: float64 \n",
      "\n",
      "\n",
      "delinq_2yrs \n",
      " 9.0      0.002353\n",
      "13.0     0.002353\n",
      "11.0     0.004705\n",
      "8.0      0.007058\n",
      "7.0      0.014116\n",
      "6.0      0.030584\n",
      "5.0      0.063520\n",
      "4.0      0.169388\n",
      "3.0      0.574037\n",
      "2.0      1.813862\n",
      "1.0      8.457630\n",
      "0.0     88.860396\n",
      "Name: delinq_2yrs, dtype: float64 \n",
      "\n",
      "\n",
      "inq_last_6mths \n",
      " 20.0     0.002353\n",
      "25.0     0.002353\n",
      "28.0     0.002353\n",
      "31.0     0.002353\n",
      "33.0     0.002353\n",
      "32.0     0.002353\n",
      "27.0     0.002353\n",
      "19.0     0.004705\n",
      "24.0     0.004705\n",
      "17.0     0.004705\n",
      "16.0     0.007058\n",
      "18.0     0.009410\n",
      "14.0     0.014116\n",
      "13.0     0.014116\n",
      "15.0     0.021173\n",
      "11.0     0.035289\n",
      "12.0     0.035289\n",
      "10.0     0.056463\n",
      "9.0      0.117630\n",
      "8.0      0.270550\n",
      "7.0      0.428175\n",
      "6.0      0.797534\n",
      "5.0      1.402155\n",
      "4.0      2.484355\n",
      "3.0      7.486002\n",
      "2.0     14.085070\n",
      "1.0     26.459794\n",
      "0.0     46.245236\n",
      "Name: inq_last_6mths, dtype: float64 \n",
      "\n",
      "\n",
      "pub_rec \n",
      " 5.0     0.002353\n",
      "4.0     0.004705\n",
      "3.0     0.025879\n",
      "2.0     0.150567\n",
      "1.0     5.406296\n",
      "0.0    94.410201\n",
      "Name: pub_rec, dtype: float64 \n",
      "\n",
      "\n",
      "revol_bal \n",
      " 17889.0    0.002351\n",
      "23997.0    0.002351\n",
      "13403.0    0.002351\n",
      "9488.0     0.002351\n",
      "1263.0     0.002351\n",
      "             ...   \n",
      "682.0      0.028212\n",
      "1.0        0.030563\n",
      "298.0      0.032914\n",
      "255.0      0.032914\n",
      "0.0        2.630775\n",
      "Name: revol_bal, Length: 22709, dtype: float64 \n",
      "\n",
      "\n",
      "recoveries \n",
      " 10263.12     0.002351\n",
      "750.28       0.002351\n",
      "307.13       0.002351\n",
      "470.16       0.002351\n",
      "910.72       0.002351\n",
      "              ...    \n",
      "1.20         0.023510\n",
      "0.96         0.023510\n",
      "1.80         0.025861\n",
      "0.30         0.032914\n",
      "0.00        85.049959\n",
      "Name: recoveries, Length: 5058, dtype: float64 \n",
      "\n",
      "\n",
      "collection_recovery_fee \n",
      " 541.3086     0.002351\n",
      "134.8740     0.002351\n",
      "1.3176       0.002351\n",
      "4.3848       0.002351\n",
      "277.7148     0.002351\n",
      "              ...    \n",
      "3.2300       0.021159\n",
      "1.6000       0.023510\n",
      "1.2000       0.025861\n",
      "2.0000       0.035265\n",
      "0.0000      89.824850\n",
      "Name: collection_recovery_fee, Length: 2897, dtype: float64 \n",
      "\n",
      "\n",
      "collections_12_mths_ex_med \n",
      " 0.0    100.0\n",
      "Name: collections_12_mths_ex_med, dtype: float64 \n",
      "\n",
      "\n",
      "acc_now_delinq \n",
      " 1.0     0.00941\n",
      "0.0    99.99059\n",
      "Name: acc_now_delinq, dtype: float64 \n",
      "\n",
      "\n",
      "chargeoff_within_12_mths \n",
      " 0.0    100.0\n",
      "Name: chargeoff_within_12_mths, dtype: float64 \n",
      "\n",
      "\n",
      "delinq_amnt \n",
      " 27.0       0.002353\n",
      "6053.0     0.002353\n",
      "0.0       99.995295\n",
      "Name: delinq_amnt, dtype: float64 \n",
      "\n",
      "\n",
      "pub_rec_bankruptcies \n",
      " 2.0     0.019432\n",
      "1.0     4.483847\n",
      "0.0    95.496721\n",
      "Name: pub_rec_bankruptcies, dtype: float64 \n",
      "\n",
      "\n",
      "tax_liens \n",
      " 1.0     0.002357\n",
      "0.0    99.997643\n",
      "Name: tax_liens, dtype: float64 \n",
      "\n",
      "\n"
     ]
    }
   ],
   "source": [
    "# wybieram te zmienne, których histogramy wydają się składać głównie z jednej wartości i sprawdzam ich rozkłady\n",
    "col_list = ['annual_inc','delinq_2yrs','inq_last_6mths','pub_rec','revol_bal','recoveries',\n",
    "            'collection_recovery_fee','collections_12_mths_ex_med','acc_now_delinq',\n",
    "            'chargeoff_within_12_mths','delinq_amnt','pub_rec_bankruptcies','tax_liens']\n",
    "processing.print_sorted_values(df, col_list)"
   ]
  },
  {
   "cell_type": "code",
   "execution_count": 14,
   "id": "ccf8d37d",
   "metadata": {},
   "outputs": [
    {
     "data": {
      "text/plain": [
       "(42536, 36)"
      ]
     },
     "execution_count": 14,
     "metadata": {},
     "output_type": "execute_result"
    }
   ],
   "source": [
    "# usuwam te zmienne, które mają 99%+ jednej wartości, a także zmienne pub_rec (94% zer i 5% jedynek)\n",
    "# oraz pub_rec_bankruptcies (92% zero, 4% jedynek i reszta missingi) - te zmienne również nie dadzą nam wiele informacji\n",
    "\n",
    "df = df.drop(columns = ['collections_12_mths_ex_med', 'acc_now_delinq',\n",
    "                           'chargeoff_within_12_mths', 'delinq_amnt', 'tax_liens', 'pub_rec', 'pub_rec_bankruptcies'])\n",
    "df.shape"
   ]
  },
  {
   "cell_type": "markdown",
   "id": "5c5e516a",
   "metadata": {},
   "source": [
    "Na histogramach nie mogłam przedstawić zmiennych kategorycznych, więc zanalizuję je osobno."
   ]
  },
  {
   "cell_type": "code",
   "execution_count": 15,
   "id": "87c0ed8e",
   "metadata": {},
   "outputs": [
    {
     "name": "stdout",
     "output_type": "stream",
     "text": [
      "term \n",
      "  60 months    25.863407\n",
      " 36 months    74.136593\n",
      "Name: term, dtype: float64 \n",
      "\n",
      "\n",
      "int_rate \n",
      "  16.20%    0.002351\n",
      " 17.72%    0.002351\n",
      " 17.41%    0.002351\n",
      " 17.44%    0.002351\n",
      " 24.59%    0.002351\n",
      "             ...   \n",
      "  7.88%    1.744446\n",
      "  7.51%    1.850241\n",
      " 13.49%    1.956036\n",
      " 11.49%    1.967791\n",
      " 10.99%    2.280475\n",
      "Name: int_rate, Length: 394, dtype: float64 \n",
      "\n",
      "\n",
      "grade \n",
      " G     1.203715\n",
      "F     3.058658\n",
      "E     7.979311\n",
      "D    14.143646\n",
      "C    20.547784\n",
      "A    23.940284\n",
      "B    29.126602\n",
      "Name: grade, dtype: float64 \n",
      "\n",
      "\n",
      "sub_grade \n",
      " G3    0.185729\n",
      "G5    0.202186\n",
      "G4    0.232750\n",
      "G2    0.251558\n",
      "G1    0.331492\n",
      "F5    0.362055\n",
      "F4    0.496062\n",
      "F3    0.554837\n",
      "F2    0.724110\n",
      "F1    0.921594\n",
      "E5    1.173152\n",
      "E4    1.297755\n",
      "E3    1.570471\n",
      "E2    1.859645\n",
      "E1    2.078288\n",
      "D5    2.388621\n",
      "D1    2.475608\n",
      "D4    2.680146\n",
      "A1    2.684848\n",
      "C5    3.035148\n",
      "D3    3.108029\n",
      "C4    3.220877\n",
      "D2    3.491243\n",
      "A2    3.573528\n",
      "C3    3.897966\n",
      "A3    4.285882\n",
      "B1    4.424592\n",
      "B2    4.967674\n",
      "C2    5.071118\n",
      "C1    5.322675\n",
      "B4    6.089103\n",
      "A5    6.566357\n",
      "B5    6.599271\n",
      "A4    6.829670\n",
      "B3    7.045962\n",
      "Name: sub_grade, dtype: float64 \n",
      "\n",
      "\n",
      "emp_length \n",
      " 9 years       3.237332\n",
      "8 years       3.843275\n",
      "7 years       4.526471\n",
      "6 years       5.733530\n",
      "5 years       8.348019\n",
      "1 year        8.678753\n",
      "4 years       8.809116\n",
      "3 years      10.535210\n",
      "2 years      11.450161\n",
      "< 1 year     12.220264\n",
      "10+ years    22.617869\n",
      "Name: emp_length, dtype: float64 \n",
      "\n",
      "\n",
      "home_ownership \n",
      " NONE         0.018808\n",
      "OTHER        0.319737\n",
      "OWN          7.643117\n",
      "MORTGAGE    44.572705\n",
      "RENT        47.445633\n",
      "Name: home_ownership, dtype: float64 \n",
      "\n",
      "\n",
      "verification_status \n",
      " Source Verified    24.229458\n",
      "Verified           31.670389\n",
      "Not Verified       44.100153\n",
      "Name: verification_status, dtype: float64 \n",
      "\n",
      "\n",
      "issue_d \n",
      " Jun-2007    0.056424\n",
      "Sep-2007    0.124603\n",
      "Sep-2008    0.134007\n",
      "Jul-2007    0.148113\n",
      "Aug-2007    0.173974\n",
      "Aug-2008    0.235101\n",
      "Oct-2007    0.246856\n",
      "Nov-2007    0.263313\n",
      "May-2008    0.270366\n",
      "Oct-2008    0.286823\n",
      "Jun-2008    0.291525\n",
      "Jul-2008    0.331492\n",
      "Dec-2007    0.404373\n",
      "Nov-2008    0.491360\n",
      "Dec-2008    0.594804\n",
      "Apr-2008    0.608910\n",
      "Jan-2009    0.632420\n",
      "Feb-2009    0.710004\n",
      "Jan-2008    0.717057\n",
      "Feb-2008    0.719408\n",
      "Mar-2009    0.761726\n",
      "Apr-2009    0.782885\n",
      "May-2009    0.844011\n",
      "Mar-2008    0.945104\n",
      "Jun-2009    0.954508\n",
      "Jul-2009    0.966263\n",
      "Aug-2009    1.048548\n",
      "Sep-2009    1.191960\n",
      "Oct-2009    1.420007\n",
      "Dec-2009    1.546961\n",
      "Nov-2009    1.556365\n",
      "Jan-2010    1.556365\n",
      "Feb-2010    1.603385\n",
      "Mar-2010    1.946632\n",
      "Apr-2010    2.144117\n",
      "May-2010    2.325144\n",
      "Jun-2010    2.597861\n",
      "Aug-2010    2.762431\n",
      "Sep-2010    2.795345\n",
      "Jul-2010    2.830610\n",
      "Nov-2010    2.877630\n",
      "Oct-2010    2.896438\n",
      "Feb-2011    3.051605\n",
      "Dec-2010    3.138592\n",
      "Jan-2011    3.244387\n",
      "Mar-2011    3.404255\n",
      "Apr-2011    3.674621\n",
      "May-2011    4.006113\n",
      "Jun-2011    4.314094\n",
      "Jul-2011    4.408134\n",
      "Aug-2011    4.546844\n",
      "Sep-2011    4.859527\n",
      "Oct-2011    4.979429\n",
      "Nov-2011    5.247443\n",
      "Dec-2011    5.329728\n",
      "Name: issue_d, dtype: float64 \n",
      "\n",
      "\n",
      "loan_status \n",
      " Does not meet the credit policy. Status:Charged Off     1.789115\n",
      "Does not meet the credit policy. Status:Fully Paid      4.673798\n",
      "Charged Off                                            13.330199\n",
      "Fully Paid                                             80.206888\n",
      "Name: loan_status, dtype: float64 \n",
      "\n",
      "\n",
      "pymnt_plan \n",
      " n    100.0\n",
      "Name: pymnt_plan, dtype: float64 \n",
      "\n",
      "\n",
      "purpose \n",
      " renewable_energy       0.249207\n",
      "vacation               0.940402\n",
      "educational            0.992124\n",
      "house                  1.001528\n",
      "moving                 1.478782\n",
      "medical                1.770307\n",
      "wedding                2.360409\n",
      "car                    3.796873\n",
      "small_business         4.683202\n",
      "major_purchase         5.433173\n",
      "home_improvement       7.520865\n",
      "other                 10.403197\n",
      "credit_card           12.876455\n",
      "debt_consolidation    46.493476\n",
      "Name: purpose, dtype: float64 \n",
      "\n",
      "\n",
      "earliest_cr_line \n",
      " Nov-1959    0.002353\n",
      "Apr-1968    0.002353\n",
      "Apr-1969    0.002353\n",
      "Nov-1962    0.002353\n",
      "Nov-1963    0.002353\n",
      "              ...   \n",
      "Dec-1997    0.818708\n",
      "Dec-1998    0.861055\n",
      "Oct-2000    0.870465\n",
      "Nov-1998    0.917518\n",
      "Oct-1999    0.924575\n",
      "Name: earliest_cr_line, Length: 530, dtype: float64 \n",
      "\n",
      "\n",
      "revol_util \n",
      " 105.7%    0.002356\n",
      "108.8%    0.002356\n",
      "105.2%    0.002356\n",
      "100.6%    0.002356\n",
      "102.7%    0.002356\n",
      "            ...   \n",
      "66.6%     0.146071\n",
      "63%       0.148427\n",
      "0.2%      0.150783\n",
      "40.7%     0.153139\n",
      "0%        2.520909\n",
      "Name: revol_util, Length: 1119, dtype: float64 \n",
      "\n",
      "\n",
      "initial_list_status \n",
      " f    100.0\n",
      "Name: initial_list_status, dtype: float64 \n",
      "\n",
      "\n",
      "application_type \n",
      " Individual    100.0\n",
      "Name: application_type, dtype: float64 \n",
      "\n",
      "\n",
      "hardship_flag \n",
      " N    100.0\n",
      "Name: hardship_flag, dtype: float64 \n",
      "\n",
      "\n",
      "disbursement_method \n",
      " Cash    100.0\n",
      "Name: disbursement_method, dtype: float64 \n",
      "\n",
      "\n",
      "debt_settlement_flag \n",
      " Y     0.376161\n",
      "N    99.623839\n",
      "Name: debt_settlement_flag, dtype: float64 \n",
      "\n",
      "\n"
     ]
    }
   ],
   "source": [
    "object_column_list = df.select_dtypes(include='object').columns.tolist()\n",
    "processing.print_sorted_values(df, object_column_list)"
   ]
  },
  {
   "cell_type": "code",
   "execution_count": 16,
   "id": "6aea190f",
   "metadata": {},
   "outputs": [
    {
     "data": {
      "text/plain": [
       "(42536, 30)"
      ]
     },
     "execution_count": 16,
     "metadata": {},
     "output_type": "execute_result"
    }
   ],
   "source": [
    "# te zmienne również mają tylko jedną wartość lub 99% jednej wartości\n",
    "df = df.drop(columns = ['initial_list_status', 'application_type', 'pymnt_plan',\n",
    "                           'hardship_flag', 'disbursement_method', 'debt_settlement_flag'])\n",
    "df.shape"
   ]
  },
  {
   "cell_type": "markdown",
   "id": "aedd0d4e",
   "metadata": {},
   "source": [
    "#### Usuwanie niepotrzebnych obserwacji"
   ]
  },
  {
   "cell_type": "code",
   "execution_count": 17,
   "id": "129a04fb",
   "metadata": {},
   "outputs": [
    {
     "data": {
      "text/plain": [
       "(42535, 30)"
      ]
     },
     "execution_count": 17,
     "metadata": {},
     "output_type": "execute_result"
    }
   ],
   "source": [
    "# usuwam puste wiersze\n",
    "df = df.dropna(axis = 0, how = 'all')\n",
    "df.shape"
   ]
  },
  {
   "cell_type": "code",
   "execution_count": 18,
   "id": "225b6560",
   "metadata": {},
   "outputs": [
    {
     "data": {
      "text/plain": [
       "(42535, 30)"
      ]
     },
     "execution_count": 18,
     "metadata": {},
     "output_type": "execute_result"
    }
   ],
   "source": [
    "# usuwam obserwacje, w których jest większość pustych wartości\n",
    "perc = 75.0 # próg\n",
    "min_count =  int(((100-perc)/100)*df.shape[1] + 1)\n",
    "df = df.dropna( axis=0, thresh=min_count)\n",
    "df.shape # nie było takich wierszy"
   ]
  },
  {
   "cell_type": "code",
   "execution_count": 19,
   "id": "eaa4e0a5",
   "metadata": {},
   "outputs": [
    {
     "data": {
      "text/plain": [
       "array(['Fully Paid', 'Charged Off',\n",
       "       'Does not meet the credit policy. Status:Fully Paid',\n",
       "       'Does not meet the credit policy. Status:Charged Off'],\n",
       "      dtype=object)"
      ]
     },
     "execution_count": 19,
     "metadata": {},
     "output_type": "execute_result"
    }
   ],
   "source": [
    "# usuwam obserwacje, których nie chcemy brać pod uwagę\n",
    "# loan_status (to nasza zmienna objaśniana)\n",
    "df['loan_status'].unique()"
   ]
  },
  {
   "cell_type": "markdown",
   "id": "af900bee",
   "metadata": {},
   "source": [
    "Zmienna przyjmuje wartości zawierające informacje, że dana obserwacja nie spełnia polityki kredytowej banku. Wyrzucam te obserwacje, ponieważ nie chcę uczyć modelu na danych, które nie są zgodne z wytycznymi i prawdopodobnie nie są korzystne dla biznesu."
   ]
  },
  {
   "cell_type": "code",
   "execution_count": 20,
   "id": "a1c93662",
   "metadata": {},
   "outputs": [
    {
     "data": {
      "text/plain": [
       "(39786, 30)"
      ]
     },
     "execution_count": 20,
     "metadata": {},
     "output_type": "execute_result"
    }
   ],
   "source": [
    "df = df[(df['loan_status'] != 'Does not meet the credit policy. Status:Fully Paid') & \n",
    "           (df['loan_status'] != 'Does not meet the credit policy. Status:Charged Off')]\n",
    "df.shape"
   ]
  },
  {
   "cell_type": "markdown",
   "id": "4af32337",
   "metadata": {},
   "source": [
    "Po usunięciu niepotrzebnych obserwacji ponownie sprawdzam, czy mam jakieś kolumny z pojedynczymi wartościami i usuwam je"
   ]
  },
  {
   "cell_type": "code",
   "execution_count": 21,
   "id": "b64a5abc",
   "metadata": {},
   "outputs": [
    {
     "data": {
      "text/plain": [
       "(39786, 27)"
      ]
     },
     "execution_count": 21,
     "metadata": {},
     "output_type": "execute_result"
    }
   ],
   "source": [
    "df = processing.drop_constant_columns(df)\n",
    "df.shape"
   ]
  },
  {
   "cell_type": "markdown",
   "id": "0dc0a50c",
   "metadata": {},
   "source": [
    "#### Rekodowanie zmiennych"
   ]
  },
  {
   "cell_type": "code",
   "execution_count": 22,
   "id": "33b6d05e",
   "metadata": {},
   "outputs": [
    {
     "data": {
      "text/html": [
       "<div>\n",
       "<style scoped>\n",
       "    .dataframe tbody tr th:only-of-type {\n",
       "        vertical-align: middle;\n",
       "    }\n",
       "\n",
       "    .dataframe tbody tr th {\n",
       "        vertical-align: top;\n",
       "    }\n",
       "\n",
       "    .dataframe thead th {\n",
       "        text-align: right;\n",
       "    }\n",
       "</style>\n",
       "<table border=\"1\" class=\"dataframe\">\n",
       "  <thead>\n",
       "    <tr style=\"text-align: right;\">\n",
       "      <th></th>\n",
       "      <th>int_rate</th>\n",
       "      <th>term</th>\n",
       "      <th>revol_util</th>\n",
       "    </tr>\n",
       "  </thead>\n",
       "  <tbody>\n",
       "    <tr>\n",
       "      <th>0</th>\n",
       "      <td>1065</td>\n",
       "      <td>36</td>\n",
       "      <td>837.0</td>\n",
       "    </tr>\n",
       "    <tr>\n",
       "      <th>1</th>\n",
       "      <td>1527</td>\n",
       "      <td>60</td>\n",
       "      <td>94.0</td>\n",
       "    </tr>\n",
       "    <tr>\n",
       "      <th>2</th>\n",
       "      <td>1596</td>\n",
       "      <td>36</td>\n",
       "      <td>985.0</td>\n",
       "    </tr>\n",
       "    <tr>\n",
       "      <th>3</th>\n",
       "      <td>1349</td>\n",
       "      <td>36</td>\n",
       "      <td>21.0</td>\n",
       "    </tr>\n",
       "    <tr>\n",
       "      <th>4</th>\n",
       "      <td>1269</td>\n",
       "      <td>60</td>\n",
       "      <td>539.0</td>\n",
       "    </tr>\n",
       "  </tbody>\n",
       "</table>\n",
       "</div>"
      ],
      "text/plain": [
       "   int_rate  term  revol_util\n",
       "0      1065    36       837.0\n",
       "1      1527    60        94.0\n",
       "2      1596    36       985.0\n",
       "3      1349    36        21.0\n",
       "4      1269    60       539.0"
      ]
     },
     "execution_count": 22,
     "metadata": {},
     "output_type": "execute_result"
    }
   ],
   "source": [
    "# usuwam słowa z niektórych zmiennych, np. months, years, %\n",
    "col_list = ['revol_util','int_rate', 'term']\n",
    "for col in col_list:\n",
    "    df[col] = df[col].str.replace(r'\\D', '', regex = True)\n",
    "    df[col] = pd.to_numeric(df[col])\n",
    "\n",
    "df.loc[:,['int_rate', 'term', 'revol_util']].head()"
   ]
  },
  {
   "cell_type": "code",
   "execution_count": 23,
   "id": "89046cee",
   "metadata": {},
   "outputs": [
    {
     "data": {
      "text/plain": [
       "array(['10+ years', '< 1 year', '1 year', '3 years', '8 years', '9 years',\n",
       "       '4 years', '5 years', '6 years', '2 years', '7 years', nan],\n",
       "      dtype=object)"
      ]
     },
     "execution_count": 23,
     "metadata": {},
     "output_type": "execute_result"
    }
   ],
   "source": [
    "df['emp_length'].unique()"
   ]
  },
  {
   "cell_type": "code",
   "execution_count": 24,
   "id": "7caf7f35",
   "metadata": {},
   "outputs": [
    {
     "data": {
      "text/plain": [
       "0    10.0\n",
       "1     0.0\n",
       "2    10.0\n",
       "3    10.0\n",
       "4     1.0\n",
       "Name: emp_length, dtype: float64"
      ]
     },
     "execution_count": 24,
     "metadata": {},
     "output_type": "execute_result"
    }
   ],
   "source": [
    "# zmienna emp_length - tutaj trzeba pozamieniać <1 year na 0 najpierw\n",
    "df['emp_length'] = df['emp_length'].replace('< 1 year', '0')\n",
    "df['emp_length'] = df['emp_length'].str.replace(r'\\D', '', regex = True)\n",
    "df['emp_length'] = pd.to_numeric(df['emp_length'])\n",
    "df['emp_length'].head()"
   ]
  },
  {
   "cell_type": "markdown",
   "id": "ff79e739",
   "metadata": {},
   "source": [
    "#### Uzupełnianie brakujących wartości "
   ]
  },
  {
   "cell_type": "code",
   "execution_count": 25,
   "id": "00f73747",
   "metadata": {},
   "outputs": [
    {
     "name": "stdout",
     "output_type": "stream",
     "text": [
      "emp_length    2.71\n",
      "revol_util    0.13\n",
      "dtype: float64\n"
     ]
    }
   ],
   "source": [
    "# sprawdzam ile brakujących wartości jest w pozostałych zmiennych\n",
    "missing_values_series = df.isna().sum()\n",
    "missing_values_series = missing_values_series[missing_values_series>0] \n",
    "print(round(100*(missing_values_series/len(df.index)), 2)) # wyświetl wartości w procentach"
   ]
  },
  {
   "cell_type": "markdown",
   "id": "8416c1e9",
   "metadata": {},
   "source": [
    "Brakujące wartości znajdują się w zmiennch ilościowych, więc uzupełnię je\n",
    "średnimi w podgrupach wyodrębnionych na podstawie 2 zmiennych opisujących klientów:\n",
    "- dochód roczny - annual_inc\n",
    "- punktacja FICO - fico_range_low\n",
    "\n",
    "Tworzę nową zmienną, aby podzielić zbiór na podgrupy według deklarowanego dochodu:"
   ]
  },
  {
   "cell_type": "code",
   "execution_count": 27,
   "id": "b582940e",
   "metadata": {},
   "outputs": [
    {
     "data": {
      "text/plain": [
       "0    1\n",
       "1    2\n",
       "2    1\n",
       "3    4\n",
       "4    8\n",
       "Name: annual_inc_cat_10, dtype: int64"
      ]
     },
     "execution_count": 27,
     "metadata": {},
     "output_type": "execute_result"
    }
   ],
   "source": [
    "processing.create_10_categories(df, 'annual_inc', 'annual_inc_cat_10')\n",
    "df['annual_inc_cat_10'].head()"
   ]
  },
  {
   "cell_type": "markdown",
   "id": "a2581fcb",
   "metadata": {},
   "source": [
    "Tworzę następną zmienną, aby analogicznie podzielić zbiór według deklarowanego dochodu.\n",
    "Przy tym korzystam z załączonego dokumentu z informacją o przyjmowanym podziale na kategorie kredytobiorców według otrzymanej punktacji FICO"
   ]
  },
  {
   "cell_type": "code",
   "execution_count": 28,
   "id": "f1f53d25",
   "metadata": {},
   "outputs": [],
   "source": [
    "def map_fico(score):\n",
    "  if score < 580:\n",
    "    return \"1. Poor\"\n",
    "  elif 580 <= score < 670:\n",
    "    return \"2. Fair\"\n",
    "  elif 670 <= score < 740:\n",
    "    return \"3. Good\"\n",
    "  elif 740 <= score < 800:\n",
    "    return \"4. Very Good\"\n",
    "  else:\n",
    "    return \"5. Exceptional\"\n",
    "df[\"fico_range_low_cat\"] = df[\"fico_range_low\"].apply(lambda score: map_fico(score))"
   ]
  },
  {
   "cell_type": "code",
   "execution_count": 29,
   "id": "61124950",
   "metadata": {},
   "outputs": [],
   "source": [
    "# uzupełniam brakujące wartości na podstawie dochodu kategoryzowanego i FICO kategoryzowanego\n",
    "df[['emp_length', 'revol_util']] = df.groupby(['annual_inc_cat_10', 'fico_range_low_cat'])[['emp_length', 'revol_util']]\\\n",
    "                        .transform(lambda x: x.fillna(round(x.mean())))"
   ]
  },
  {
   "cell_type": "code",
   "execution_count": 30,
   "id": "48158221",
   "metadata": {},
   "outputs": [],
   "source": [
    "df.to_csv('Loan_data_after_processing.csv', index=False)"
   ]
  }
 ],
 "metadata": {
  "kernelspec": {
   "display_name": "Python 3 (ipykernel)",
   "language": "python",
   "name": "python3"
  },
  "language_info": {
   "codemirror_mode": {
    "name": "ipython",
    "version": 3
   },
   "file_extension": ".py",
   "mimetype": "text/x-python",
   "name": "python",
   "nbconvert_exporter": "python",
   "pygments_lexer": "ipython3",
   "version": "3.9.12"
  }
 },
 "nbformat": 4,
 "nbformat_minor": 5
}
