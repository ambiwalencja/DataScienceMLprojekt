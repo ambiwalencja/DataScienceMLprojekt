{
 "cells": [
  {
   "cell_type": "markdown",
   "id": "1e48460d",
   "metadata": {},
   "source": [
    "# 4. Modelowanie"
   ]
  },
  {
   "cell_type": "code",
   "execution_count": 1,
   "id": "0c45ec34",
   "metadata": {},
   "outputs": [],
   "source": [
    "import pandas as pd\n",
    "import numpy as np\n",
    "import matplotlib.pyplot as plt\n",
    "import seaborn as sns\n",
    "from scipy import stats\n",
    "\n",
    "# statystyki, metryki\n",
    "from statistics import mean, stdev\n",
    "from sklearn.metrics import roc_auc_score\n",
    "from sklearn import metrics\n",
    "\n",
    "# podział zbioru\n",
    "from sklearn.model_selection import cross_val_score\n",
    "from sklearn.model_selection import train_test_split\n",
    "from sklearn.model_selection import StratifiedKFold\n",
    "from sklearn.model_selection import RepeatedStratifiedKFold\n",
    "\n",
    "# standaryzacja\n",
    "from sklearn.preprocessing import StandardScaler\n",
    "\n",
    "# modele\n",
    "from sklearn.linear_model import LogisticRegression\n",
    "from sklearn.ensemble import RandomForestClassifier\n",
    "from sklearn.neighbors import KNeighborsClassifier\n",
    "from sklearn.neural_network import MLPClassifier\n",
    "from xgboost import XGBClassifier\n",
    "from lightgbm import LGBMClassifier\n",
    "\n",
    "\n",
    "# optymalizacja\n",
    "from sklearn.model_selection import GridSearchCV\n",
    "# from sklearn.model_selection import RandomizedSearchCV"
   ]
  },
  {
   "cell_type": "code",
   "execution_count": 2,
   "id": "32ede809",
   "metadata": {},
   "outputs": [],
   "source": [
    "import warnings\n",
    "warnings.filterwarnings(\"ignore\", category=FutureWarning)\n",
    "warnings.filterwarnings(\"ignore\", category=RuntimeWarning)\n",
    "\n",
    "# from sklearn.exceptions import DataConversionWarning\n",
    "# warnings.filterwarnings(action='ignore', category=DataConversionWarning)"
   ]
  },
  {
   "cell_type": "code",
   "execution_count": 3,
   "id": "93669eb0",
   "metadata": {},
   "outputs": [],
   "source": [
    "# importuję plik z funkcjami w pythonie\n",
    "import modelling"
   ]
  },
  {
   "cell_type": "code",
   "execution_count": 4,
   "id": "c73e5d0c",
   "metadata": {},
   "outputs": [],
   "source": [
    "df = pd.read_csv('Loan_data_after_feature_eng.csv')\n",
    "df_x = df.drop('target', axis=1)\n",
    "df_y = df[['target']]"
   ]
  },
  {
   "cell_type": "markdown",
   "id": "ebdb315c",
   "metadata": {},
   "source": [
    "## Uczenie nadzorowane"
   ]
  },
  {
   "cell_type": "code",
   "execution_count": 5,
   "id": "67eaed36",
   "metadata": {},
   "outputs": [
    {
     "data": {
      "text/plain": [
       "['acc_ratio',\n",
       " 'annual_inc',\n",
       " 'annual_inc_cat_10',\n",
       " 'annual_inc_log+1',\n",
       " 'delinq_2yrs',\n",
       " 'delinq_2yrs_bin',\n",
       " 'dti',\n",
       " 'earliest_cr_line_month',\n",
       " 'earliest_cr_line_year',\n",
       " 'earliest_cr_line_year_log+1',\n",
       " 'emp_length',\n",
       " 'emp_length_bin',\n",
       " 'fico_range_low',\n",
       " 'fico_range_low_cat_num',\n",
       " 'grade_num',\n",
       " 'home_MORTGAGE',\n",
       " 'home_OTHER',\n",
       " 'home_OWN',\n",
       " 'home_RENT',\n",
       " 'inc_source_ver_status',\n",
       " 'inc_ver_status',\n",
       " 'inq_last_6mths',\n",
       " 'inq_last_6mths_log+1',\n",
       " 'installment',\n",
       " 'installment_log+1',\n",
       " 'int_rate',\n",
       " 'int_rate_log+1',\n",
       " 'issue_d_month',\n",
       " 'issue_d_year',\n",
       " 'loan_amnt',\n",
       " 'loan_amnt_cat_10',\n",
       " 'loan_amnt_log+1',\n",
       " 'open_acc',\n",
       " 'open_acc_log+1',\n",
       " 'revol_bal',\n",
       " 'revol_bal_log+1',\n",
       " 'revol_util',\n",
       " 'revol_util_log+1',\n",
       " 'term',\n",
       " 'total_acc',\n",
       " 'total_acc_log+1']"
      ]
     },
     "execution_count": 5,
     "metadata": {},
     "output_type": "execute_result"
    }
   ],
   "source": [
    "df_x[sorted(df_x)].columns.tolist()"
   ]
  },
  {
   "cell_type": "code",
   "execution_count": 6,
   "id": "f36ee69e",
   "metadata": {},
   "outputs": [],
   "source": [
    "# pierwszy zestaw predyktorów - zmienne wyjściowe\n",
    "predictors_orig = [\n",
    "'acc_ratio',\n",
    " 'annual_inc',\n",
    " 'delinq_2yrs',\n",
    " 'dti',\n",
    " 'earliest_cr_line_month',\n",
    " 'earliest_cr_line_year',\n",
    " 'emp_length',\n",
    " 'fico_range_low',\n",
    " 'grade_num',\n",
    " 'home_MORTGAGE',\n",
    " 'home_OTHER',\n",
    " 'home_OWN',\n",
    " 'home_RENT',\n",
    " 'inc_source_ver_status',\n",
    " 'inc_ver_status',\n",
    " 'inq_last_6mths',\n",
    " 'installment',\n",
    " 'int_rate',\n",
    " 'issue_d_month',\n",
    " 'issue_d_year',\n",
    " 'loan_amnt',\n",
    " 'open_acc',\n",
    " 'revol_bal',\n",
    " 'revol_util',\n",
    " 'term',\n",
    " 'total_acc',\n",
    "]"
   ]
  },
  {
   "cell_type": "code",
   "execution_count": 7,
   "id": "d4c55fca",
   "metadata": {},
   "outputs": [],
   "source": [
    "# drugi zestaw predyktorów - logarytmowane + dealinq_2yrs binarne\n",
    "predictors_log = [\n",
    "'acc_ratio',\n",
    " 'annual_inc_log+1',\n",
    " 'delinq_2yrs_bin',\n",
    " 'dti',\n",
    " 'earliest_cr_line_month',\n",
    " 'earliest_cr_line_year_log+1',\n",
    " 'emp_length',\n",
    " 'fico_range_low',\n",
    " 'grade_num',\n",
    " 'home_MORTGAGE',\n",
    " 'home_OTHER',\n",
    " 'home_OWN',\n",
    " 'home_RENT',\n",
    " 'inc_source_ver_status',\n",
    " 'inc_ver_status',\n",
    " 'inq_last_6mths_log+1',\n",
    " 'installment_log+1',\n",
    " 'int_rate_log+1',\n",
    " 'issue_d_month',\n",
    " 'issue_d_year',\n",
    " 'loan_amnt_log+1',\n",
    " 'open_acc_log+1',\n",
    " 'revol_bal_log+1',\n",
    " 'revol_util_log+1',\n",
    " 'term',\n",
    " 'total_acc_log+1'\n",
    "]"
   ]
  },
  {
   "cell_type": "code",
   "execution_count": 8,
   "id": "a49253a7",
   "metadata": {},
   "outputs": [],
   "source": [
    "df_x = df_x[predictors_log]"
   ]
  },
  {
   "cell_type": "markdown",
   "id": "35102cde",
   "metadata": {},
   "source": [
    "### 1. Regresja Logistyczna"
   ]
  },
  {
   "cell_type": "code",
   "execution_count": 9,
   "id": "35ebc0fb",
   "metadata": {},
   "outputs": [
    {
     "name": "stdout",
     "output_type": "stream",
     "text": [
      "List of AUROC scores: [0.70382189 0.70197927 0.70031831 0.690808   0.70231742 0.68527503\n",
      " 0.6887996  0.69733438 0.69934524 0.69614491]\n",
      "\n",
      "Mean AUROC: 69.661 %\n"
     ]
    }
   ],
   "source": [
    "logReg = modelling.Model(df_x, df_y, LogisticRegression(max_iter=500))\n",
    "logReg.train_model()"
   ]
  },
  {
   "cell_type": "code",
   "execution_count": 10,
   "id": "f8ef2615",
   "metadata": {},
   "outputs": [
    {
     "data": {
      "text/html": [
       "<div>\n",
       "<style scoped>\n",
       "    .dataframe tbody tr th:only-of-type {\n",
       "        vertical-align: middle;\n",
       "    }\n",
       "\n",
       "    .dataframe tbody tr th {\n",
       "        vertical-align: top;\n",
       "    }\n",
       "\n",
       "    .dataframe thead th {\n",
       "        text-align: right;\n",
       "    }\n",
       "</style>\n",
       "<table border=\"1\" class=\"dataframe\">\n",
       "  <thead>\n",
       "    <tr style=\"text-align: right;\">\n",
       "      <th></th>\n",
       "      <th>Method</th>\n",
       "      <th>ROC AUC score</th>\n",
       "    </tr>\n",
       "  </thead>\n",
       "  <tbody>\n",
       "    <tr>\n",
       "      <th>1</th>\n",
       "      <td>Logistic Regression</td>\n",
       "      <td>0.697</td>\n",
       "    </tr>\n",
       "  </tbody>\n",
       "</table>\n",
       "</div>"
      ],
      "text/plain": [
       "                Method  ROC AUC score\n",
       "1  Logistic Regression          0.697"
      ]
     },
     "execution_count": 10,
     "metadata": {},
     "output_type": "execute_result"
    }
   ],
   "source": [
    "modelling.compare_results('Logistic Regression', logReg.auroc_mean)"
   ]
  },
  {
   "cell_type": "code",
   "execution_count": 11,
   "id": "24875bcc",
   "metadata": {},
   "outputs": [
    {
     "ename": "AttributeError",
     "evalue": "'LogisticRegression' object has no attribute 'coef_'",
     "output_type": "error",
     "traceback": [
      "\u001b[1;31m---------------------------------------------------------------------------\u001b[0m",
      "\u001b[1;31mAttributeError\u001b[0m                            Traceback (most recent call last)",
      "Input \u001b[1;32mIn [11]\u001b[0m, in \u001b[0;36m<cell line: 1>\u001b[1;34m()\u001b[0m\n\u001b[0;32m      1\u001b[0m importances \u001b[38;5;241m=\u001b[39m pd\u001b[38;5;241m.\u001b[39mDataFrame(data\u001b[38;5;241m=\u001b[39m{\n\u001b[0;32m      2\u001b[0m     \u001b[38;5;124m'\u001b[39m\u001b[38;5;124mAttribute\u001b[39m\u001b[38;5;124m'\u001b[39m: df_x\u001b[38;5;241m.\u001b[39mcolumns,\n\u001b[1;32m----> 3\u001b[0m     \u001b[38;5;124m'\u001b[39m\u001b[38;5;124mImportance\u001b[39m\u001b[38;5;124m'\u001b[39m: \u001b[43mlogReg\u001b[49m\u001b[38;5;241;43m.\u001b[39;49m\u001b[43mmodel\u001b[49m\u001b[38;5;241;43m.\u001b[39;49m\u001b[43mcoef_\u001b[49m[\u001b[38;5;241m0\u001b[39m]\n\u001b[0;32m      4\u001b[0m })\n\u001b[0;32m      5\u001b[0m importances \u001b[38;5;241m=\u001b[39m importances\u001b[38;5;241m.\u001b[39msort_values(by\u001b[38;5;241m=\u001b[39m\u001b[38;5;124m'\u001b[39m\u001b[38;5;124mImportance\u001b[39m\u001b[38;5;124m'\u001b[39m, ascending\u001b[38;5;241m=\u001b[39m\u001b[38;5;28;01mFalse\u001b[39;00m)\n\u001b[0;32m      7\u001b[0m plt\u001b[38;5;241m.\u001b[39mfigure(figsize\u001b[38;5;241m=\u001b[39m(\u001b[38;5;241m20\u001b[39m,\u001b[38;5;241m15\u001b[39m))\n",
      "\u001b[1;31mAttributeError\u001b[0m: 'LogisticRegression' object has no attribute 'coef_'"
     ]
    }
   ],
   "source": [
    "importances = pd.DataFrame(data={\n",
    "    'Attribute': df_x.columns,\n",
    "    'Importance': logReg.model.coef_[0]\n",
    "})\n",
    "importances = importances.sort_values(by='Importance', ascending=False)\n",
    "\n",
    "plt.figure(figsize=(20,15))\n",
    "plt.bar(x=importances['Attribute'], height=importances['Importance'], color='#087E8B')\n",
    "plt.title('Feature importances from coefficients', size=20)\n",
    "plt.xticks(rotation='vertical')\n",
    "plt.show()"
   ]
  },
  {
   "cell_type": "markdown",
   "id": "04c9ebff",
   "metadata": {},
   "source": [
    "Zmienne o zerowym/znikomym znaczeniu: open_acc, total_acc, inc_ver_status, dti"
   ]
  },
  {
   "cell_type": "code",
   "execution_count": null,
   "id": "46f5d478",
   "metadata": {},
   "outputs": [],
   "source": [
    "# nic nie wywalam na razie, a może i w ogóle.\n",
    "# df_x = df_x.drop(columns=['dti', 'delinq_2yrs']) # annual_inc_log+1 ??? ta zmienna powinna mieć bardzo duże znaczenie.                                                   "
   ]
  },
  {
   "cell_type": "markdown",
   "id": "f8f9ce7d",
   "metadata": {},
   "source": [
    "### 2. Random Forest"
   ]
  },
  {
   "cell_type": "code",
   "execution_count": 12,
   "id": "d44dd606",
   "metadata": {},
   "outputs": [
    {
     "name": "stdout",
     "output_type": "stream",
     "text": [
      "List of AUROC scores: [0.97855662 0.98072335 0.97828636 0.97428078 0.97756607 0.9764584\n",
      " 0.97474259 0.9780149  0.9780583  0.97786391]\n",
      "\n",
      "Mean AUROC: 97.746 %\n"
     ]
    }
   ],
   "source": [
    "randFor = modelling.Model(df_x, df_y, RandomForestClassifier())\n",
    "randFor.train_model()"
   ]
  },
  {
   "cell_type": "code",
   "execution_count": 13,
   "id": "ad563e24",
   "metadata": {},
   "outputs": [
    {
     "data": {
      "text/html": [
       "<div>\n",
       "<style scoped>\n",
       "    .dataframe tbody tr th:only-of-type {\n",
       "        vertical-align: middle;\n",
       "    }\n",
       "\n",
       "    .dataframe tbody tr th {\n",
       "        vertical-align: top;\n",
       "    }\n",
       "\n",
       "    .dataframe thead th {\n",
       "        text-align: right;\n",
       "    }\n",
       "</style>\n",
       "<table border=\"1\" class=\"dataframe\">\n",
       "  <thead>\n",
       "    <tr style=\"text-align: right;\">\n",
       "      <th></th>\n",
       "      <th>Method</th>\n",
       "      <th>ROC AUC score</th>\n",
       "    </tr>\n",
       "  </thead>\n",
       "  <tbody>\n",
       "    <tr>\n",
       "      <th>1</th>\n",
       "      <td>Logistic Regression</td>\n",
       "      <td>0.697</td>\n",
       "    </tr>\n",
       "    <tr>\n",
       "      <th>2</th>\n",
       "      <td>Random Forest</td>\n",
       "      <td>0.977</td>\n",
       "    </tr>\n",
       "  </tbody>\n",
       "</table>\n",
       "</div>"
      ],
      "text/plain": [
       "                Method  ROC AUC score\n",
       "1  Logistic Regression          0.697\n",
       "2        Random Forest          0.977"
      ]
     },
     "execution_count": 13,
     "metadata": {},
     "output_type": "execute_result"
    }
   ],
   "source": [
    "modelling.compare_results('Random Forest', randFor.auroc_mean)"
   ]
  },
  {
   "cell_type": "markdown",
   "id": "eac691ba",
   "metadata": {},
   "source": [
    "### 3. K-NN"
   ]
  },
  {
   "cell_type": "markdown",
   "id": "995e45cf",
   "metadata": {},
   "source": [
    "Najpierw wybieram optymalne K - sprawdzam średni błąd dla K w zakresie od 1 do 30."
   ]
  },
  {
   "cell_type": "code",
   "execution_count": 14,
   "id": "c37665ac",
   "metadata": {},
   "outputs": [],
   "source": [
    "train_x, test_x, train_y, test_y = train_test_split(df_x, df_y, test_size=0.3, random_state=0, stratify = df_y)"
   ]
  },
  {
   "cell_type": "code",
   "execution_count": 15,
   "id": "bda68fb1",
   "metadata": {},
   "outputs": [
    {
     "data": {
      "text/plain": [
       "array([[ 0.01716413,  1.1850207 ,  2.91732017, ...,  0.70577665,\n",
       "         1.66649788, -0.0094807 ],\n",
       "       [ 0.33649319, -0.53033175, -0.34278034, ...,  0.08900797,\n",
       "        -0.60006077, -0.42697649],\n",
       "       [ 0.29892506, -1.03283292, -0.34278034, ..., -0.24908553,\n",
       "         1.66649788, -0.0094807 ],\n",
       "       ...,\n",
       "       [-0.73419838,  0.27810693, -0.34278034, ...,  0.30860349,\n",
       "        -0.60006077,  0.16884217],\n",
       "       [-1.1221301 ,  0.06112409,  2.91732017, ...,  0.56235014,\n",
       "        -0.60006077,  0.3316382 ],\n",
       "       [ 0.45545892, -2.07635063, -0.34278034, ..., -1.5366839 ,\n",
       "        -0.60006077,  0.62005011]])"
      ]
     },
     "execution_count": 15,
     "metadata": {},
     "output_type": "execute_result"
    }
   ],
   "source": [
    "modelling.standarize_dataset(train_x)\n",
    "modelling.standarize_dataset(test_x) # tego spróbowałam, ale zaniepokoił mnie wynik więc spróbowałam jeszcze raz na piechotę\n",
    "# to zrobić poniżej - z tym samym efektem, więc prawdopodobnie równie dobrze mogłabym użyc funkcji z pliku\n",
    "# scaler = StandardScaler()\n",
    "\n",
    "# scaled_x_array = scaler.fit_transform(train_x)\n",
    "# train_x = pd.DataFrame(scaled_x_array,columns=train_x.columns)\n",
    "\n",
    "# scaled_x_array = scaler.fit_transform(test_x)\n",
    "# test_x = pd.DataFrame(scaled_x_array,columns=test_x.columns)"
   ]
  },
  {
   "cell_type": "code",
   "execution_count": 16,
   "id": "c86c808b",
   "metadata": {},
   "outputs": [],
   "source": [
    "knn_error=[]\n",
    "for i in range(1,30):\n",
    "    knn = KNeighborsClassifier(n_neighbors=i)\n",
    "    knn.fit(train_x,np.ravel(train_y))\n",
    "    pred_i = knn.predict(test_x)\n",
    "    knn_error.append(np.mean(pred_i != test_y.values)) "
   ]
  },
  {
   "cell_type": "code",
   "execution_count": 17,
   "id": "8cf4f07e",
   "metadata": {},
   "outputs": [
    {
     "data": {
      "text/plain": [
       "Text(0, 0.5, 'Mean error')"
      ]
     },
     "execution_count": 17,
     "metadata": {},
     "output_type": "execute_result"
    },
    {
     "data": {
      "image/png": "[encoded data removed]",
      "text/plain": [
       "<Figure size 864x432 with 1 Axes>"
      ]
     },
     "metadata": {
      "needs_background": "light"
     },
     "output_type": "display_data"
    }
   ],
   "source": [
    "plt.figure(figsize=(12,6))\n",
    "plt.plot(range(1,30), knn_error, color='red', linestyle='dashed', marker='o', markerfacecolor='blue', markersize=10)\n",
    "plt.title('Error Rate K Value')\n",
    "plt.xlabel('K Value')\n",
    "plt.ylabel('Mean error')\n",
    "# LOL czemu "
   ]
  },
  {
   "cell_type": "code",
   "execution_count": 18,
   "id": "519bbc03",
   "metadata": {},
   "outputs": [
    {
     "name": "stdout",
     "output_type": "stream",
     "text": [
      "List of AUROC scores: [0.90093852 0.90047112 0.89074797 0.88212875 0.89267913 0.88735598\n",
      " 0.89010712 0.89284835 0.89122513 0.894107  ]\n",
      "\n",
      "Mean AUROC: 89.226 %\n"
     ]
    },
    {
     "data": {
      "text/html": [
       "<div>\n",
       "<style scoped>\n",
       "    .dataframe tbody tr th:only-of-type {\n",
       "        vertical-align: middle;\n",
       "    }\n",
       "\n",
       "    .dataframe tbody tr th {\n",
       "        vertical-align: top;\n",
       "    }\n",
       "\n",
       "    .dataframe thead th {\n",
       "        text-align: right;\n",
       "    }\n",
       "</style>\n",
       "<table border=\"1\" class=\"dataframe\">\n",
       "  <thead>\n",
       "    <tr style=\"text-align: right;\">\n",
       "      <th></th>\n",
       "      <th>Method</th>\n",
       "      <th>ROC AUC score</th>\n",
       "    </tr>\n",
       "  </thead>\n",
       "  <tbody>\n",
       "    <tr>\n",
       "      <th>1</th>\n",
       "      <td>Logistic Regression</td>\n",
       "      <td>0.697</td>\n",
       "    </tr>\n",
       "    <tr>\n",
       "      <th>2</th>\n",
       "      <td>Random Forest</td>\n",
       "      <td>0.977</td>\n",
       "    </tr>\n",
       "    <tr>\n",
       "      <th>3</th>\n",
       "      <td>KNN Classifier</td>\n",
       "      <td>0.892</td>\n",
       "    </tr>\n",
       "  </tbody>\n",
       "</table>\n",
       "</div>"
      ],
      "text/plain": [
       "                Method  ROC AUC score\n",
       "1  Logistic Regression          0.697\n",
       "2        Random Forest          0.977\n",
       "3       KNN Classifier          0.892"
      ]
     },
     "execution_count": 18,
     "metadata": {},
     "output_type": "execute_result"
    }
   ],
   "source": [
    "# wybieram k = 13\n",
    "knn = modelling.Model(df_x, df_y, KNeighborsClassifier(n_neighbors=13))\n",
    "knn.train_model()\n",
    "modelling.compare_results('KNN Classifier', knn.auroc_mean)"
   ]
  },
  {
   "cell_type": "markdown",
   "id": "0e1f411a",
   "metadata": {},
   "source": [
    "### 4. MLP"
   ]
  },
  {
   "cell_type": "code",
   "execution_count": 19,
   "id": "4fc5e29b",
   "metadata": {},
   "outputs": [
    {
     "name": "stdout",
     "output_type": "stream",
     "text": [
      "List of AUROC scores: [0.85305749 0.84808758 0.85265261 0.8461534  0.84894444 0.83736873\n",
      " 0.83943465 0.86157494 0.84611693 0.84277438]\n",
      "\n",
      "Mean AUROC: 84.762 %\n"
     ]
    },
    {
     "data": {
      "text/html": [
       "<div>\n",
       "<style scoped>\n",
       "    .dataframe tbody tr th:only-of-type {\n",
       "        vertical-align: middle;\n",
       "    }\n",
       "\n",
       "    .dataframe tbody tr th {\n",
       "        vertical-align: top;\n",
       "    }\n",
       "\n",
       "    .dataframe thead th {\n",
       "        text-align: right;\n",
       "    }\n",
       "</style>\n",
       "<table border=\"1\" class=\"dataframe\">\n",
       "  <thead>\n",
       "    <tr style=\"text-align: right;\">\n",
       "      <th></th>\n",
       "      <th>Method</th>\n",
       "      <th>ROC AUC score</th>\n",
       "    </tr>\n",
       "  </thead>\n",
       "  <tbody>\n",
       "    <tr>\n",
       "      <th>1</th>\n",
       "      <td>Logistic Regression</td>\n",
       "      <td>0.697</td>\n",
       "    </tr>\n",
       "    <tr>\n",
       "      <th>2</th>\n",
       "      <td>Random Forest</td>\n",
       "      <td>0.977</td>\n",
       "    </tr>\n",
       "    <tr>\n",
       "      <th>3</th>\n",
       "      <td>KNN Classifier</td>\n",
       "      <td>0.892</td>\n",
       "    </tr>\n",
       "    <tr>\n",
       "      <th>4</th>\n",
       "      <td>MLP Classifier</td>\n",
       "      <td>0.848</td>\n",
       "    </tr>\n",
       "  </tbody>\n",
       "</table>\n",
       "</div>"
      ],
      "text/plain": [
       "                Method  ROC AUC score\n",
       "1  Logistic Regression          0.697\n",
       "2        Random Forest          0.977\n",
       "3       KNN Classifier          0.892\n",
       "4       MLP Classifier          0.848"
      ]
     },
     "execution_count": 19,
     "metadata": {},
     "output_type": "execute_result"
    }
   ],
   "source": [
    "mlp = modelling.Model(df_x, df_y, MLPClassifier(max_iter=1000))\n",
    "mlp.train_model()\n",
    "modelling.compare_results('MLP Classifier', mlp.auroc_mean)"
   ]
  },
  {
   "cell_type": "markdown",
   "id": "79797f15",
   "metadata": {},
   "source": [
    "### 5. XGBoost"
   ]
  },
  {
   "cell_type": "code",
   "execution_count": 20,
   "id": "84286e5a",
   "metadata": {},
   "outputs": [
    {
     "name": "stdout",
     "output_type": "stream",
     "text": [
      "List of AUROC scores: [0.94636448 0.95173921 0.95047965 0.9435281  0.94870693 0.94967115\n",
      " 0.94414353 0.94783486 0.94866326 0.95080687]\n",
      "\n",
      "Mean AUROC: 94.819 %\n"
     ]
    },
    {
     "data": {
      "text/html": [
       "<div>\n",
       "<style scoped>\n",
       "    .dataframe tbody tr th:only-of-type {\n",
       "        vertical-align: middle;\n",
       "    }\n",
       "\n",
       "    .dataframe tbody tr th {\n",
       "        vertical-align: top;\n",
       "    }\n",
       "\n",
       "    .dataframe thead th {\n",
       "        text-align: right;\n",
       "    }\n",
       "</style>\n",
       "<table border=\"1\" class=\"dataframe\">\n",
       "  <thead>\n",
       "    <tr style=\"text-align: right;\">\n",
       "      <th></th>\n",
       "      <th>Method</th>\n",
       "      <th>ROC AUC score</th>\n",
       "    </tr>\n",
       "  </thead>\n",
       "  <tbody>\n",
       "    <tr>\n",
       "      <th>1</th>\n",
       "      <td>Logistic Regression</td>\n",
       "      <td>0.697</td>\n",
       "    </tr>\n",
       "    <tr>\n",
       "      <th>2</th>\n",
       "      <td>Random Forest</td>\n",
       "      <td>0.977</td>\n",
       "    </tr>\n",
       "    <tr>\n",
       "      <th>3</th>\n",
       "      <td>KNN Classifier</td>\n",
       "      <td>0.892</td>\n",
       "    </tr>\n",
       "    <tr>\n",
       "      <th>4</th>\n",
       "      <td>MLP Classifier</td>\n",
       "      <td>0.848</td>\n",
       "    </tr>\n",
       "    <tr>\n",
       "      <th>5</th>\n",
       "      <td>XGBoost</td>\n",
       "      <td>0.948</td>\n",
       "    </tr>\n",
       "  </tbody>\n",
       "</table>\n",
       "</div>"
      ],
      "text/plain": [
       "                Method  ROC AUC score\n",
       "1  Logistic Regression          0.697\n",
       "2        Random Forest          0.977\n",
       "3       KNN Classifier          0.892\n",
       "4       MLP Classifier          0.848\n",
       "5              XGBoost          0.948"
      ]
     },
     "execution_count": 20,
     "metadata": {},
     "output_type": "execute_result"
    }
   ],
   "source": [
    "xgbm = modelling.Model(df_x, df_y, XGBClassifier())\n",
    "xgbm.train_model()\n",
    "modelling.compare_results('XGBoost', xgbm.auroc_mean)"
   ]
  },
  {
   "cell_type": "markdown",
   "id": "386b372e",
   "metadata": {},
   "source": [
    "### 6. Light GBM Boost"
   ]
  },
  {
   "cell_type": "code",
   "execution_count": 21,
   "id": "cba1937a",
   "metadata": {},
   "outputs": [
    {
     "name": "stdout",
     "output_type": "stream",
     "text": [
      "List of AUROC scores: [0.94917433 0.95299436 0.95313671 0.94324042 0.94968632 0.95039758\n",
      " 0.94713973 0.95123475 0.94814525 0.95262553]\n",
      "\n",
      "Mean AUROC: 94.978 %\n"
     ]
    },
    {
     "data": {
      "text/html": [
       "<div>\n",
       "<style scoped>\n",
       "    .dataframe tbody tr th:only-of-type {\n",
       "        vertical-align: middle;\n",
       "    }\n",
       "\n",
       "    .dataframe tbody tr th {\n",
       "        vertical-align: top;\n",
       "    }\n",
       "\n",
       "    .dataframe thead th {\n",
       "        text-align: right;\n",
       "    }\n",
       "</style>\n",
       "<table border=\"1\" class=\"dataframe\">\n",
       "  <thead>\n",
       "    <tr style=\"text-align: right;\">\n",
       "      <th></th>\n",
       "      <th>Method</th>\n",
       "      <th>ROC AUC score</th>\n",
       "    </tr>\n",
       "  </thead>\n",
       "  <tbody>\n",
       "    <tr>\n",
       "      <th>1</th>\n",
       "      <td>Logistic Regression</td>\n",
       "      <td>0.697</td>\n",
       "    </tr>\n",
       "    <tr>\n",
       "      <th>2</th>\n",
       "      <td>Random Forest</td>\n",
       "      <td>0.977</td>\n",
       "    </tr>\n",
       "    <tr>\n",
       "      <th>3</th>\n",
       "      <td>KNN Classifier</td>\n",
       "      <td>0.892</td>\n",
       "    </tr>\n",
       "    <tr>\n",
       "      <th>4</th>\n",
       "      <td>MLP Classifier</td>\n",
       "      <td>0.848</td>\n",
       "    </tr>\n",
       "    <tr>\n",
       "      <th>5</th>\n",
       "      <td>XGBoost</td>\n",
       "      <td>0.948</td>\n",
       "    </tr>\n",
       "    <tr>\n",
       "      <th>6</th>\n",
       "      <td>Light GBM</td>\n",
       "      <td>0.950</td>\n",
       "    </tr>\n",
       "  </tbody>\n",
       "</table>\n",
       "</div>"
      ],
      "text/plain": [
       "                Method  ROC AUC score\n",
       "1  Logistic Regression          0.697\n",
       "2        Random Forest          0.977\n",
       "3       KNN Classifier          0.892\n",
       "4       MLP Classifier          0.848\n",
       "5              XGBoost          0.948\n",
       "6            Light GBM          0.950"
      ]
     },
     "execution_count": 21,
     "metadata": {},
     "output_type": "execute_result"
    }
   ],
   "source": [
    "lgbm = modelling.Model(df_x, df_y, LGBMClassifier())\n",
    "lgbm.train_model()\n",
    "modelling.compare_results('Light GBM', lgbm.auroc_mean)"
   ]
  },
  {
   "cell_type": "markdown",
   "id": "27af4bda",
   "metadata": {},
   "source": [
    "# Modele na zbiorze PCA"
   ]
  },
  {
   "cell_type": "markdown",
   "id": "f9e4732f",
   "metadata": {},
   "source": [
    "### Regresja Logistyczna - PCA"
   ]
  },
  {
   "cell_type": "code",
   "execution_count": 22,
   "id": "d844a470",
   "metadata": {},
   "outputs": [
    {
     "name": "stdout",
     "output_type": "stream",
     "text": [
      "List of AUROC scores: [0.69385332 0.69185329 0.69318957 0.67903939 0.6979513  0.67462767\n",
      " 0.67937012 0.68618357 0.68695077 0.69001625]\n",
      "\n",
      "Mean AUROC: 68.73 %\n"
     ]
    },
    {
     "data": {
      "text/html": [
       "<div>\n",
       "<style scoped>\n",
       "    .dataframe tbody tr th:only-of-type {\n",
       "        vertical-align: middle;\n",
       "    }\n",
       "\n",
       "    .dataframe tbody tr th {\n",
       "        vertical-align: top;\n",
       "    }\n",
       "\n",
       "    .dataframe thead th {\n",
       "        text-align: right;\n",
       "    }\n",
       "</style>\n",
       "<table border=\"1\" class=\"dataframe\">\n",
       "  <thead>\n",
       "    <tr style=\"text-align: right;\">\n",
       "      <th></th>\n",
       "      <th>Method</th>\n",
       "      <th>ROC AUC score</th>\n",
       "    </tr>\n",
       "  </thead>\n",
       "  <tbody>\n",
       "    <tr>\n",
       "      <th>1</th>\n",
       "      <td>Logistic Regression</td>\n",
       "      <td>0.697</td>\n",
       "    </tr>\n",
       "    <tr>\n",
       "      <th>2</th>\n",
       "      <td>Random Forest</td>\n",
       "      <td>0.977</td>\n",
       "    </tr>\n",
       "    <tr>\n",
       "      <th>3</th>\n",
       "      <td>KNN Classifier</td>\n",
       "      <td>0.892</td>\n",
       "    </tr>\n",
       "    <tr>\n",
       "      <th>4</th>\n",
       "      <td>MLP Classifier</td>\n",
       "      <td>0.848</td>\n",
       "    </tr>\n",
       "    <tr>\n",
       "      <th>5</th>\n",
       "      <td>XGBoost</td>\n",
       "      <td>0.948</td>\n",
       "    </tr>\n",
       "    <tr>\n",
       "      <th>6</th>\n",
       "      <td>Light GBM</td>\n",
       "      <td>0.950</td>\n",
       "    </tr>\n",
       "    <tr>\n",
       "      <th>7</th>\n",
       "      <td>Logistic Regression PCA</td>\n",
       "      <td>0.687</td>\n",
       "    </tr>\n",
       "  </tbody>\n",
       "</table>\n",
       "</div>"
      ],
      "text/plain": [
       "                    Method  ROC AUC score\n",
       "1      Logistic Regression          0.697\n",
       "2            Random Forest          0.977\n",
       "3           KNN Classifier          0.892\n",
       "4           MLP Classifier          0.848\n",
       "5                  XGBoost          0.948\n",
       "6                Light GBM          0.950\n",
       "7  Logistic Regression PCA          0.687"
      ]
     },
     "execution_count": 22,
     "metadata": {},
     "output_type": "execute_result"
    }
   ],
   "source": [
    "logReg_pca = modelling.Model(df_x, df_y, LogisticRegression(max_iter=500))\n",
    "logReg_pca.train_model_pca()\n",
    "modelling.compare_results('Logistic Regression PCA', logReg_pca.auroc_mean)"
   ]
  },
  {
   "cell_type": "markdown",
   "id": "4948451e",
   "metadata": {},
   "source": [
    "### Random forest - PCA"
   ]
  },
  {
   "cell_type": "code",
   "execution_count": null,
   "id": "71c4aaf0",
   "metadata": {},
   "outputs": [],
   "source": [
    "randFor_pca = modelling.Model(df_x, df_y, RandomForestClassifier())\n",
    "randFor_pca.train_model_pca()\n",
    "modelling.compare_results('Random Forest PCA', randFor_pca.auroc_mean)"
   ]
  },
  {
   "cell_type": "markdown",
   "id": "96facada",
   "metadata": {},
   "source": [
    "### KNN - PCA"
   ]
  },
  {
   "cell_type": "code",
   "execution_count": null,
   "id": "dc3bbacd",
   "metadata": {},
   "outputs": [],
   "source": [
    "knn_pca = modelling.Model(df_x, df_y, KNeighborsClassifier(n_neighbors=15))\n",
    "knn_pca.train_model_pca()\n",
    "modelling.compare_results('KNN Classifier PCA', knn_pca.auroc_mean)"
   ]
  },
  {
   "cell_type": "markdown",
   "id": "48def07b",
   "metadata": {},
   "source": [
    "### MLP - PCA"
   ]
  },
  {
   "cell_type": "code",
   "execution_count": null,
   "id": "d18dc1dd",
   "metadata": {},
   "outputs": [],
   "source": [
    "mlp_pca = modelling.Model(df_x, df_y, MLPClassifier(max_iter=1000))\n",
    "mlp_pca.train_model_pca()\n",
    "modelling.compare_results('MLP Classifier PCA', mlp_pca.auroc_mean)"
   ]
  },
  {
   "cell_type": "markdown",
   "id": "c5634ca4",
   "metadata": {},
   "source": [
    "### XGBoost - PCA"
   ]
  },
  {
   "cell_type": "code",
   "execution_count": null,
   "id": "672639d6",
   "metadata": {},
   "outputs": [],
   "source": [
    "xgbm_pca = modelling.Model(df_x, df_y, XGBClassifier())\n",
    "xgbm_pca.train_model_pca()\n",
    "modelling.compare_results('XGBoost PCA', xgbm_pca.auroc_mean)"
   ]
  },
  {
   "cell_type": "markdown",
   "id": "3f148690",
   "metadata": {},
   "source": [
    "### Light GBM - PCA"
   ]
  },
  {
   "cell_type": "code",
   "execution_count": null,
   "id": "bff64c7a",
   "metadata": {},
   "outputs": [],
   "source": [
    "lgbm_pca = modelling.Model(df_x, df_y, LGBMClassifier())\n",
    "lgbm_pca.train_model_pca()\n",
    "modelling.compare_results('Light GBM PCA', lgbm_pca.auroc_mean)"
   ]
  },
  {
   "cell_type": "markdown",
   "id": "9e98e78f",
   "metadata": {},
   "source": [
    "(podsumowanie zmienić oczywiście po dojściu do ładu z modelami)\n",
    "\n",
    "Podsumowując działanie modeli na danych po PCA - w żadnym modelu poprawa metryki AUC ROC nie była wyraźna.\n",
    "\n",
    "Modele, które odniosły lepszy rezultat przy PCA: MLP\n",
    "\n",
    "Modele, które uzyskały niższy wynik: XGBoost, Light GBM\n",
    "\n",
    "Porównywalny: regresja logistyczna, random forest, KNN\n",
    "\n",
    "Najlepszy wynik osiągnęłam przy regresji logistycznej oraz Light GBM."
   ]
  },
  {
   "cell_type": "markdown",
   "id": "9c9bb22c",
   "metadata": {},
   "source": [
    "##  Optymalizacja"
   ]
  },
  {
   "cell_type": "code",
   "execution_count": 30,
   "id": "35dd1910",
   "metadata": {},
   "outputs": [],
   "source": [
    "df = pd.read_csv(\"Loan_data_new_variables.csv\")\n",
    "df_x = df.drop('target', axis=1)\n",
    "df_y = df[['target']]\n",
    "df_x = df_x[predictors_orig]"
   ]
  },
  {
   "cell_type": "code",
   "execution_count": null,
   "id": "7677716d",
   "metadata": {},
   "outputs": [],
   "source": [
    "# usuwam zmienne o znikomej istotności dla modelu\n",
    "df_x = df_x.drop(columns=['open_acc', 'total_acc', 'inc_ver_status', 'dti'])"
   ]
  },
  {
   "cell_type": "markdown",
   "id": "40a4f34c",
   "metadata": {},
   "source": [
    "### Regresja logistyczna"
   ]
  },
  {
   "cell_type": "code",
   "execution_count": null,
   "id": "bf49fa8f",
   "metadata": {},
   "outputs": [],
   "source": [
    "logReg2 = modelling.Model(df_x, df_y, LogisticRegression(max_iter=500))\n",
    "logReg2.train_model()\n",
    "modelling.compare_results('Logistic Regression - different predictors', logReg2.auroc_mean)"
   ]
  },
  {
   "cell_type": "markdown",
   "id": "26d3b0a7",
   "metadata": {},
   "source": [
    "Wynik na innym zestawie predyktorów oraz po usunięciu nieistotnych zmiennych nie zmienił się. (potwierdzić po wykonaniu)"
   ]
  },
  {
   "cell_type": "markdown",
   "id": "05db80e5",
   "metadata": {},
   "source": [
    "### GridSearch"
   ]
  },
  {
   "cell_type": "code",
   "execution_count": 6,
   "id": "e076fce3",
   "metadata": {},
   "outputs": [
    {
     "name": "stdout",
     "output_type": "stream",
     "text": [
      "Best: 0.6873432400059986 using {'C': 0.01, 'solver': 'newton-cg'}\n",
      "0.6872191804992192 with:{'C': 100, 'solver': 'newton-cg'}\n",
      "0.679413792667361 with:{'C': 100, 'solver': 'lbfgs'}\n",
      "0.677860522631304 with:{'C': 100, 'solver': 'liblinear'}\n",
      "0.6721171037010375 with:{'C': 100, 'solver': 'sag'}\n",
      "0.6673569039644593 with:{'C': 100, 'solver': 'saga'}\n",
      "0.6872296184240877 with:{'C': 10, 'solver': 'newton-cg'}\n",
      "0.6791024326034809 with:{'C': 10, 'solver': 'lbfgs'}\n",
      "0.6776391937906521 with:{'C': 10, 'solver': 'liblinear'}\n",
      "0.6721171037010375 with:{'C': 10, 'solver': 'sag'}\n",
      "0.6673569039644593 with:{'C': 10, 'solver': 'saga'}\n",
      "0.6872866710627562 with:{'C': 1.0, 'solver': 'newton-cg'}\n",
      "0.6786606805904057 with:{'C': 1.0, 'solver': 'lbfgs'}\n",
      "0.6780381401333577 with:{'C': 1.0, 'solver': 'liblinear'}\n",
      "0.6721171037010375 with:{'C': 1.0, 'solver': 'sag'}\n",
      "0.6673569039644593 with:{'C': 1.0, 'solver': 'saga'}\n",
      "0.6873060269686481 with:{'C': 0.1, 'solver': 'newton-cg'}\n",
      "0.6793359851525947 with:{'C': 0.1, 'solver': 'lbfgs'}\n",
      "0.6780322167252638 with:{'C': 0.1, 'solver': 'liblinear'}\n",
      "0.6721171037010375 with:{'C': 0.1, 'solver': 'sag'}\n",
      "0.6673569039644593 with:{'C': 0.1, 'solver': 'saga'}\n",
      "0.6873432400059986 with:{'C': 0.01, 'solver': 'newton-cg'}\n",
      "0.678101794730129 with:{'C': 0.01, 'solver': 'lbfgs'}\n",
      "0.6778353643541573 with:{'C': 0.01, 'solver': 'liblinear'}\n",
      "0.6721170117533557 with:{'C': 0.01, 'solver': 'sag'}\n",
      "0.6673569346136866 with:{'C': 0.01, 'solver': 'saga'}\n"
     ]
    },
    {
     "name": "stderr",
     "output_type": "stream",
     "text": [
      "C:\\Users\\Hela\\anaconda3\\lib\\site-packages\\sklearn\\utils\\optimize.py:203: UserWarning: Line Search failed\n",
      "  warnings.warn(\"Line Search failed\")\n"
     ]
    }
   ],
   "source": [
    "logReg3 = modelling.Model(df_x, df_y, LogisticRegression(max_iter=1500))\n",
    "logReg3.train_model_grid_search({'solver': ['newton-cg', 'lbfgs', 'liblinear', 'sag', 'saga'],\n",
    "                                  'C': [100, 10, 1.0, 0.1, 0.01]})"
   ]
  },
  {
   "cell_type": "markdown",
   "id": "44add87b",
   "metadata": {},
   "source": [
    "Nie widać zauważalnej różnicy pomiędzy różnymi ustawieniami parametrów. \n",
    "ver2: W grid search nawet najlepszy wynik był gorszy od tego otrzymanego bez optymalizacji.\n",
    "\n",
    "Drugi w kolejności model pod względem AUC ROC score to był Light GBM - wykonam więc jeszcze jego optymalizację."
   ]
  },
  {
   "cell_type": "markdown",
   "id": "b52f081d",
   "metadata": {},
   "source": [
    "### Light GBM"
   ]
  },
  {
   "cell_type": "code",
   "execution_count": null,
   "id": "2083e313",
   "metadata": {},
   "outputs": [],
   "source": [
    "# uruchamiam najpierw model na zmienionym zestawie predyktorów\n",
    "lgbm2 = modelling.Model(df_x, df_y, LGBMClassifier())\n",
    "lgbm2.train_model()\n",
    "modelling.compare_results('Light GBM - different predictors', lgbm2.auroc_mean)"
   ]
  },
  {
   "cell_type": "markdown",
   "id": "ae650ff7",
   "metadata": {},
   "source": [
    "Wyniki na pozostałych zestawach predyktorów: \n",
    "- Na predyktorach oryginalnych predictors_orig - 68,54%\n",
    "- logarytmicznych predictors_log - 68,439%\n",
    "- kategoryzowanych predictors_cat -  68,601%\n",
    "- logarytmicznych bez najmniej istotnych zmiennych - 68,758%"
   ]
  },
  {
   "cell_type": "code",
   "execution_count": null,
   "id": "417e5fdd",
   "metadata": {},
   "outputs": [],
   "source": [
    "# trenuję model jeszcze raz w uproszczony sposób, aby wyświetlić feature importances\n",
    "train_x, test_x, train_y, test_y = train_test_split(df_x, df_y, random_state=0, stratify = df_y['target'])\n",
    "lgbm2.fit(train_x, np.ravel(train_y))"
   ]
  },
  {
   "cell_type": "code",
   "execution_count": null,
   "id": "42159145",
   "metadata": {},
   "outputs": [],
   "source": [
    "lgb.plot_importance(lgbm2, figsize=(40,20))"
   ]
  },
  {
   "cell_type": "markdown",
   "id": "0613a3b1",
   "metadata": {},
   "source": [
    "Z wykresu feature importances wynika, że najmniejsze znaczenie dla modelu posiadają zmienne: revol_bal_outliers, loan_amnt_bin oraz delinq_2yrs_outliers. Usuwam je więc z zestawu predyktorów."
   ]
  },
  {
   "cell_type": "code",
   "execution_count": null,
   "id": "b98c90ce",
   "metadata": {},
   "outputs": [],
   "source": [
    "df_x = df_x.drop(columns=['revol_bal_outliers', 'loan_amnt_bin', 'delinq_2yrs_outliers'])"
   ]
  },
  {
   "cell_type": "code",
   "execution_count": null,
   "id": "4b1c4384",
   "metadata": {},
   "outputs": [],
   "source": [
    "# powtarzam operację powyżej\n",
    "lgbm2 = modelling.Model(df_x, df_y, LGBMClassifier())\n",
    "lgbm2.train_model()\n",
    "modelling.compare_results('Light GBM - different predictors', lgbm2.auroc_mean)"
   ]
  },
  {
   "cell_type": "markdown",
   "id": "0d0b5fc2",
   "metadata": {},
   "source": [
    "Wynik pozostał taki sam.\n"
   ]
  },
  {
   "cell_type": "markdown",
   "id": "b0c6b5f1",
   "metadata": {},
   "source": [
    "### Light GBM Grid Search"
   ]
  },
  {
   "cell_type": "markdown",
   "id": "8f1a1a5d",
   "metadata": {},
   "source": [
    "Manipuluję parametrami, jednak ze względu na czas obliczeniowy dzielę to na dwie tury, pozostawiając częśc parametrów stałych."
   ]
  },
  {
   "cell_type": "markdown",
   "id": "6add4a49",
   "metadata": {},
   "source": [
    "dla parametrów:\n",
    "  - 'num_leaves' default = 31\n",
    "  - 'max_depth': [-1, 5, 10],\n",
    "  - 'min_child_samples': [20, 40, 60, 80, 100],\n",
    "  - 'max_bin' default = 255\n",
    "  - 'boosting_type': ['dart', 'gbdt', 'goss'],\n",
    "  - 'learning_rate' default = 0.1\n",
    "\n",
    "Najlepszy wynik:\n",
    "\n",
    "Best: 0.6892187140351865 using {'boosting_type': 'dart', 'max_depth': 5, 'min_child_samples': 100}"
   ]
  },
  {
   "cell_type": "code",
   "execution_count": 9,
   "id": "7b51551d",
   "metadata": {},
   "outputs": [
    {
     "name": "stdout",
     "output_type": "stream",
     "text": [
      "Best: 0.938457450626209 using {'boosting_type': 'dart', 'max_depth': 5, 'min_child_samples': 100}\n",
      "0.938457 (0.003016) with: {'boosting_type': 'dart', 'max_depth': 5, 'min_child_samples': 100}\n",
      "0.938101 (0.003366) with: {'boosting_type': 'dart', 'max_depth': 5, 'min_child_samples': 120}\n",
      "0.938164 (0.003080) with: {'boosting_type': 'dart', 'max_depth': 5, 'min_child_samples': 140}\n",
      "0.937232 (0.003172) with: {'boosting_type': 'dart', 'max_depth': 5, 'min_child_samples': 200}\n"
     ]
    }
   ],
   "source": [
    "lgbm3 = modelling.Model(df_x, df_y, LGBMClassifier(random_state = 0))\n",
    "lgbm3.train_model_grid_search({ 'max_depth': [5],\n",
    "                                'min_child_samples': [100, 120, 140, 200],\n",
    "                                'boosting_type': ['dart'],\n",
    "                                })"
   ]
  },
  {
   "cell_type": "markdown",
   "id": "522a1500",
   "metadata": {},
   "source": [
    "Ustawiam więc 'boosting_type': 'dart', 'max_depth': 5, 'min_child_samples': 100\n",
    "\n",
    "Następna część hiperparametrów:\n",
    "\n",
    "przy tych parametrach:\n",
    "- 'num_leaves': [50, 70, 90, 110], # less then 2^max_depth, default 31, large may cause overfitting\n",
    "- 'max_bin': [200, 350, 500], # default is 255, larger for better accuracy\n",
    "- 'learning_rate': [0.01, 0.05, 0.1, 0.3] # small for better accuracy, default 0.1\n",
    "\n",
    "Best: 0.68876 using {'learning_rate': 0.1, 'max_bin': 200, 'num_leaves': 50}\n",
    "\n",
    "przy kolejnych:\n",
    "- 'num_leaves': [20, 31, 50, 70], # less then 2^max_depth, default 31, large may cause overfitting\n",
    "- 'max_bin': [150, 200, 350], # default is 255, larger for better accuracy\n",
    "- 'learning_rate': [0.05, 0.1] # small for better accuracy, default 0.1\n",
    "\n",
    "Best: 0.6895239010483522 using {'learning_rate': 0.1, 'max_bin': 350, 'num_leaves': 20}\n",
    "\n",
    "przy kolejnych:\n",
    "- 'num_leaves': [8, 9, 10, 15, 20, 31], # less then 2^max_depth, default 31, large may cause overfitting\n",
    "- 'max_bin': [200, 350, 400, 450], # default is 255, larger for better accuracy\n",
    "- 'learning_rate': [0.1] # small for better accuracy, default 0.1\n",
    "\n",
    "Best: 0.6904702388372592 using {'learning_rate': 0.1, 'max_bin': 200, 'num_leaves': 10}"
   ]
  },
  {
   "cell_type": "code",
   "execution_count": null,
   "id": "e53da672",
   "metadata": {},
   "outputs": [],
   "source": [
    "lgbm4 = modelling.Model(df_x, df_y, LGBMClassifier(random_state = 0, \n",
    "                                                   boosting_type='dart', \n",
    "                                                   max_depth = 5, \n",
    "                                                   min_child_samples = 100))\n",
    "lgbm4.train_model_grid_search({ 'num_leaves': [8, 9, 10],\n",
    "                                'max_bin': [200],\n",
    "                                'learning_rate': [0.1]\n",
    "                            })"
   ]
  },
  {
   "cell_type": "markdown",
   "id": "16046e43",
   "metadata": {},
   "source": [
    "Wybieram więc ostateczne hiperparametry i trenuję z nimi model raz jeszcze."
   ]
  },
  {
   "cell_type": "code",
   "execution_count": null,
   "id": "8a7c8d4d",
   "metadata": {},
   "outputs": [],
   "source": [
    "lgbm5 = modelling.Model(df_x, df_y, LGBMClassifier(num_leaves = 10,\n",
    "                                                     max_depth = 5,\n",
    "                                                     min_child_samples = 100,\n",
    "                                                     max_bin = 200,\n",
    "                                                     boosting_type = 'dart',\n",
    "                                                     learning_rate = 0.1\n",
    "                                                    ))\n",
    "lgbm5.train_model()\n",
    "modelling.compare_results('Light GBM - optimized parameters', lgbm5.auroc_mean)"
   ]
  },
  {
   "cell_type": "markdown",
   "id": "e8023cd5",
   "metadata": {},
   "source": [
    "To jest mój ostateczny model z wynikiem 68,869% - jak widać optymalizacja hiperparametrów nie poprawiła wyniku wyraźnie. Jest to prawdopodobnie maksimum, które można otrzymac przy danym zbiorze."
   ]
  }
 ],
 "metadata": {
  "kernelspec": {
   "display_name": "Python 3 (ipykernel)",
   "language": "python",
   "name": "python3"
  },
  "language_info": {
   "codemirror_mode": {
    "name": "ipython",
    "version": 3
   },
   "file_extension": ".py",
   "mimetype": "text/x-python",
   "name": "python",
   "nbconvert_exporter": "python",
   "pygments_lexer": "ipython3",
   "version": "3.9.12"
  }
 },
 "nbformat": 4,
 "nbformat_minor": 5
}
