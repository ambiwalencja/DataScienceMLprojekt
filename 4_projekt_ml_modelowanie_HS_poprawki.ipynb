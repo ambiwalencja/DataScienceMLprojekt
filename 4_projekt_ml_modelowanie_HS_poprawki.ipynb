{
 "cells": [
  {
   "cell_type": "markdown",
   "id": "1e48460d",
   "metadata": {},
   "source": [
    "# 4. Modelowanie"
   ]
  },
  {
   "cell_type": "code",
   "execution_count": 1,
   "id": "0c45ec34",
   "metadata": {},
   "outputs": [],
   "source": [
    "import pandas as pd\n",
    "import numpy as np\n",
    "import matplotlib.pyplot as plt\n",
    "import seaborn as sns\n",
    "from scipy import stats\n",
    "\n",
    "# statystyki, metryki\n",
    "from statistics import mean, stdev\n",
    "from sklearn.metrics import roc_auc_score\n",
    "from sklearn import metrics\n",
    "\n",
    "## Clustering\n",
    "from sklearn.cluster import KMeans\n",
    "from sklearn.metrics import silhouette_score\n",
    "\n",
    "from scipy.cluster.hierarchy import linkage\n",
    "from scipy.cluster.hierarchy import dendrogram\n",
    "from scipy.cluster.hierarchy import cut_tree\n",
    "\n",
    "from sklearn import datasets\n",
    "from sklearn.preprocessing import StandardScaler\n",
    "from sklearn.cluster import DBSCAN\n",
    "\n",
    "# podział zbioru\n",
    "from sklearn.model_selection import cross_val_score\n",
    "from sklearn.model_selection import train_test_split\n",
    "from sklearn.model_selection import StratifiedKFold\n",
    "from sklearn.model_selection import RepeatedStratifiedKFold\n",
    "\n",
    "# standaryzacja\n",
    "from sklearn.preprocessing import StandardScaler\n",
    "\n",
    "# modele\n",
    "from sklearn.linear_model import LogisticRegression\n",
    "from sklearn.ensemble import RandomForestClassifier\n",
    "from sklearn.neighbors import KNeighborsClassifier\n",
    "from sklearn.svm import SVC\n",
    "from sklearn.neural_network import MLPClassifier\n",
    "from xgboost import XGBClassifier\n",
    "from lightgbm import LGBMClassifier()\n",
    "\n",
    "\n",
    "# optymalizacja\n",
    "from sklearn.model_selection import GridSearchCV\n",
    "# from sklearn.model_selection import RandomizedSearchCV"
   ]
  },
  {
   "cell_type": "code",
   "execution_count": 2,
   "id": "32ede809",
   "metadata": {},
   "outputs": [],
   "source": [
    "import warnings\n",
    "warnings.filterwarnings(\"ignore\", category=FutureWarning)\n",
    "warnings.filterwarnings(\"ignore\", category=RuntimeWarning)\n",
    "\n",
    "# from sklearn.exceptions import DataConversionWarning\n",
    "# warnings.filterwarnings(action='ignore', category=DataConversionWarning)"
   ]
  },
  {
   "cell_type": "code",
   "execution_count": 3,
   "id": "93669eb0",
   "metadata": {},
   "outputs": [],
   "source": [
    "# importuję plik z funkcjami w pythonie\n",
    "import modelling"
   ]
  },
  {
   "cell_type": "code",
   "execution_count": 4,
   "id": "c73e5d0c",
   "metadata": {},
   "outputs": [],
   "source": [
    "df = pd.read_csv(\"Loan_data_new_variables.csv\")\n",
    "df_x = df.drop('target', axis=1)\n",
    "df_y = df[['target']]"
   ]
  },
  {
   "cell_type": "markdown",
   "id": "2470a647",
   "metadata": {},
   "source": [
    "## Klasteryzacja (analiza skupień)"
   ]
  },
  {
   "cell_type": "markdown",
   "id": "8d375934",
   "metadata": {},
   "source": [
    "- metoda k-średnich - K-means\n",
    "- hierarchiczna analiza skupień (HCA),\n",
    "- DBSCAN (tez może służyć do wyodrębniania obserwacji odstających)\n",
    "- algorytm oczekiwanie-maksymalizacja,"
   ]
  },
  {
   "cell_type": "markdown",
   "id": "df215ef2",
   "metadata": {},
   "source": [
    "### K-means"
   ]
  },
  {
   "cell_type": "markdown",
   "id": "b75a8a29",
   "metadata": {},
   "source": [
    "Określam optymalną liczbę klastrów"
   ]
  },
  {
   "cell_type": "code",
   "execution_count": null,
   "id": "3d0212cd",
   "metadata": {},
   "outputs": [],
   "source": [
    "#  metoda 1: metoda łokcia (elbow curve)\n",
    "ssd = [] # suma kwadratów odległości\n",
    "range_n_clusters = [*range(2,11)]\n",
    "for num_clusters in range_n_clusters:\n",
    "    kmeans = KMeans(n_clusters=num_clusters, max_iter=1000)\n",
    "    kmeans.fit(df_x)\n",
    "    ssd.append(kmeans.inertia_)\n",
    "    \n",
    "plt.plot(ssd)\n",
    "plt.show()"
   ]
  },
  {
   "cell_type": "markdown",
   "id": "7550d6fe",
   "metadata": {},
   "source": [
    "Z powyższego wykresu wynika, że optymalną liczbą klastrów jest 3, 5 lub 8 (po uwzględnieniu przesunięcia w skali, która jest od 0 do 8)"
   ]
  },
  {
   "cell_type": "code",
   "execution_count": null,
   "id": "f3a25307",
   "metadata": {},
   "outputs": [],
   "source": [
    "# metoda 2: Miara wewnętrzna - wskaźnik sylwetkowy\n",
    "range_n_clusters = [*range(2,11)]\n",
    "\n",
    "for num_clusters in range_n_clusters:\n",
    "    kmeans = KMeans(n_clusters=num_clusters, max_iter=1000)\n",
    "    kmeans.fit(df_x)\n",
    "    cluster_labels = kmeans.labels_\n",
    "    \n",
    "    silhouette_avg = silhouette_score(df_x, cluster_labels)\n",
    "    print(f\"For {num_clusters}, the silhouette score is {silhouette_avg}\")"
   ]
  },
  {
   "cell_type": "markdown",
   "id": "8f63aeb1",
   "metadata": {},
   "source": [
    "Według wskaźnika sylwetkowego optymalna liczba klastrów to 2, 3 lub 5.\n",
    "Wybieram więc 3 klastry."
   ]
  },
  {
   "cell_type": "code",
   "execution_count": null,
   "id": "eab9908a",
   "metadata": {},
   "outputs": [],
   "source": [
    "# liczba klastrów n = 3\n",
    "kmeans = KMeans(n_clusters=3, max_iter=1000)\n",
    "kmeans.fit(df_x)"
   ]
  },
  {
   "cell_type": "code",
   "execution_count": null,
   "id": "cf0f8109",
   "metadata": {},
   "outputs": [],
   "source": [
    "# dodaję zmienną z wynikiem podziału na klastry do zbioru\n",
    "df_x['kmeans_cluster_3'] = pd.DataFrame(kmeans.labels_).copy()"
   ]
  },
  {
   "cell_type": "code",
   "execution_count": null,
   "id": "76a9c0f9",
   "metadata": {},
   "outputs": [],
   "source": [
    "for column in df_x.columns:\n",
    "    plt.figure(figsize=(8,4))\n",
    "    sns.boxplot(x='kmeans_cluster_3', y=column, data=df_x)"
   ]
  },
  {
   "cell_type": "markdown",
   "id": "a4e38dcc",
   "metadata": {},
   "source": [
    "Zmienne, które rozróżniają te obserwacje to są: wysokość kwoty pożyczki, oprocentowanie, rata, długość zatrudnienia, dochód, fico score,\n",
    "dochód kategoryzowany, wysokość kwoty pożyczki kategoryzowana, \n",
    "\n",
    "Mniej wyraźnie: term, revol_bal, total_acc, inc_ver_status, inc_ver_source_status,\n",
    "earliest_cr_line_year, grade_num, home_Mortgage\n",
    "\n",
    "a także zmienne binarne stworzone z powyższych zmiennych."
   ]
  },
  {
   "cell_type": "code",
   "execution_count": null,
   "id": "ae2deb31",
   "metadata": {},
   "outputs": [],
   "source": [
    "plt.figure(figsize=(20,20))\n",
    "\n",
    "plt.subplot(2,2,1)\n",
    "sns.scatterplot(x='annual_inc_log+1',y='int_rate_log+1',data=df_x,hue='kmeans_cluster_3')\n",
    "\n",
    "plt.subplot(2,2,2)\n",
    "sns.scatterplot(x='annual_inc_log+1',y='loan_amnt_log+1',data=df_x,hue='kmeans_cluster_3')\n",
    "\n",
    "plt.subplot(2,2,3)\n",
    "sns.scatterplot(x='annual_inc_log+1',y='installment_log+1',data=df_x,hue='kmeans_cluster_3')\n",
    "\n",
    "plt.subplot(2,2,4)\n",
    "sns.scatterplot(x='annual_inc_log+1',y='fico_range_low',data=df_x,hue='kmeans_cluster_3')\n",
    "\n",
    "plt.show()"
   ]
  },
  {
   "cell_type": "code",
   "execution_count": null,
   "id": "18294285",
   "metadata": {},
   "outputs": [],
   "source": [
    "plt.figure(figsize=(20,20)) #,dpi=200\n",
    "\n",
    "plt.subplot(2,2,1)\n",
    "sns.scatterplot(x='loan_amnt_log+1',y='int_rate_log+1',data=df_x,hue='kmeans_cluster_3')\n",
    "\n",
    "plt.subplot(2,2,2)\n",
    "sns.scatterplot(x='loan_amnt_log+1',y = 'emp_length',data=df_x,hue='kmeans_cluster_3')\n",
    "\n",
    "plt.subplot(2,2,3)\n",
    "sns.scatterplot(x='loan_amnt_log+1',y='issue_d_month',data=df_x,hue='kmeans_cluster_3')\n",
    "\n",
    "plt.subplot(2,2,4)\n",
    "sns.scatterplot(x='loan_amnt_log+1',y='fico_range_low',data=df_x,hue='kmeans_cluster_3')\n",
    "\n",
    "plt.show()"
   ]
  },
  {
   "cell_type": "markdown",
   "id": "b4a5f147",
   "metadata": {},
   "source": [
    "Podsumowanie - komentarz:\n",
    "\n",
    "- 0: wysoki dochód, wysokie oprocentowanie, wysoka kwota kredytu, niski/średni fico score, długie zatrudnienie -> średnie/większe ryzyko\n",
    "- 1: niski dochód, średnie oprocentowanie, niska kwota kredytu, niski fico score, krótkie zatrudnienie -> większe ryzyko\n",
    "- 2: średni dochód, niskie oprocentowanie, średnia kwita kredytu, wysoki fico score, długie zatrudnienie -> niższe ryzyko\n",
    "\n",
    "Sprawdźmy te przypuszczenia:"
   ]
  },
  {
   "cell_type": "code",
   "execution_count": null,
   "id": "11157fb7",
   "metadata": {},
   "outputs": [],
   "source": [
    "df_all = pd.concat([df_x, df_y], axis=1)"
   ]
  },
  {
   "cell_type": "code",
   "execution_count": null,
   "id": "1de2d179",
   "metadata": {},
   "outputs": [],
   "source": [
    "df_all.groupby('kmeans_cluster_3')['target'].mean()"
   ]
  },
  {
   "cell_type": "markdown",
   "id": "a3b4dc99",
   "metadata": {},
   "source": [
    "Przypuszczenia się sprawdziły. Najniższy odsetek niespłacających jest w klastrze 2, najwyższy w klastrze 0, i odrobinę wyższy w klastrze 1. Czyli pod względem prawdopodobieństwa niespłacenia długu odrożnia się klaster 2, w którym jest ono najmniejsze. "
   ]
  },
  {
   "cell_type": "markdown",
   "id": "0c2cfc91",
   "metadata": {},
   "source": [
    "### Hierarchical clustering"
   ]
  },
  {
   "cell_type": "markdown",
   "id": "505634d8",
   "metadata": {},
   "source": [
    "Druga metoda klastrowania. Tą metodę było mi trudno przeprowadzic na całym zbiorze, ze względu na moc obliczeniową. Dlatego zdecydowałam wykonać ją na zbiorze ograniczonym - wyodrębniłam część zmiennych najbardzirj różnicujących zbiór według metody K-means."
   ]
  },
  {
   "cell_type": "code",
   "execution_count": null,
   "id": "fc57f831",
   "metadata": {},
   "outputs": [],
   "source": [
    "hc_vars = ['int_rate_log+1', 'installment_log+1', 'emp_length', 'fico_range_low', 'revol_bal', 'annual_inc_log+1',\n",
    "           'loan_amnt_log+1', 'grade_num', 'term', 'emp_length_bin', 'int_rate_bin', 'annual_inc_bin', 'installmentc_bin',\n",
    "          'loan_amnt_bin']"
   ]
  },
  {
   "cell_type": "code",
   "execution_count": null,
   "id": "6ebe5299",
   "metadata": {},
   "outputs": [],
   "source": [
    "df_hc = df_x[hc_vars]"
   ]
  },
  {
   "cell_type": "code",
   "execution_count": null,
   "id": "95960cfd",
   "metadata": {},
   "outputs": [],
   "source": [
    "sl_mergings = linkage(df_hc)\n",
    "dendrogram(sl_mergings)\n",
    "plt.show()"
   ]
  },
  {
   "cell_type": "markdown",
   "id": "f8e0c893",
   "metadata": {},
   "source": [
    "Niestety również i ten sposób nie pomógł (komunikat \"The kernel appears to have died. It will restart automatically\" ale niestety to się nie dzieje), więc zostawiam ten algorytm."
   ]
  },
  {
   "cell_type": "markdown",
   "id": "78b789a2",
   "metadata": {},
   "source": [
    "### DBSCAN"
   ]
  },
  {
   "cell_type": "code",
   "execution_count": null,
   "id": "5a3f9975",
   "metadata": {},
   "outputs": [],
   "source": [
    "dbscan_classifier = DBSCAN()\n",
    "dbscan_classifier.fit(df_x)"
   ]
  },
  {
   "cell_type": "code",
   "execution_count": null,
   "id": "041023de",
   "metadata": {},
   "outputs": [],
   "source": [
    "n_clusters = len(set(dbscan_classifier.labels_)) - (1 if -1 in dbscan_classifier.labels_ else 0)\n",
    "n_noise = list(dbscan_classifier.labels_).count(-1)\n",
    "\n",
    "print(f'Estimated number of clusters: {n_clusters}')\n",
    "print(f'Estimated number of noise points: {n_noise}')"
   ]
  },
  {
   "cell_type": "markdown",
   "id": "10af0643",
   "metadata": {},
   "source": [
    "Algorytm nie znajduje żadnego klastra. Wobec tego szukam optymalnych parametrów."
   ]
  },
  {
   "cell_type": "code",
   "execution_count": null,
   "id": "cd597983",
   "metadata": {},
   "outputs": [],
   "source": [
    "from sklearn.neighbors import NearestNeighbors\n",
    "\n",
    "neigh = NearestNeighbors(n_neighbors=2)\n",
    "nbrs = neigh.fit(df_x)\n",
    "distances, indices = nbrs.kneighbors(df_x)"
   ]
  },
  {
   "cell_type": "code",
   "execution_count": null,
   "id": "5c6ce04a",
   "metadata": {},
   "outputs": [],
   "source": [
    "distances = np.sort(distances, axis=0)\n",
    "distances = distances[:,1]"
   ]
  },
  {
   "cell_type": "code",
   "execution_count": null,
   "id": "dc96056e",
   "metadata": {},
   "outputs": [],
   "source": [
    "plt.figure(figsize=(10,6))\n",
    "plt.plot(distances)\n",
    "plt.axhline(y = 4.5, color = 'r', linestyle = '-')\n",
    "plt.show()"
   ]
  },
  {
   "cell_type": "markdown",
   "id": "0c6f5f96",
   "metadata": {},
   "source": [
    "Na tym wykresie szukam przegięcia - tam znajduje się optymalna odległość epsilon - w tym wypadku wynosi ona ok 5."
   ]
  },
  {
   "cell_type": "code",
   "execution_count": null,
   "id": "59b4e588",
   "metadata": {},
   "outputs": [],
   "source": [
    "dbscan_classifier = DBSCAN(eps=5)\n",
    "dbscan_model = dbscan_classifier.fit(df_x)"
   ]
  },
  {
   "cell_type": "code",
   "execution_count": null,
   "id": "811545e7",
   "metadata": {},
   "outputs": [],
   "source": [
    "n_clusters = len(set(dbscan_classifier.labels_)) - (1 if -1 in dbscan_classifier.labels_ else 0)\n",
    "n_noise = list(dbscan_classifier.labels_).count(-1)\n",
    "\n",
    "print(f'Estimated number of clusters: {n_clusters}')\n",
    "print(f'Estimated number of noise points: {n_noise}')"
   ]
  },
  {
   "cell_type": "markdown",
   "id": "d14a3d22",
   "metadata": {},
   "source": [
    "To jest dość sporo klastrów, ale jednocześnie wiem, że zbiór jest spory i może być różnorodny. Zobaczmy, w jaki sposób DBSCAN go podzielił."
   ]
  },
  {
   "cell_type": "code",
   "execution_count": null,
   "id": "0ee50664",
   "metadata": {},
   "outputs": [],
   "source": [
    "df_x['dbscan_cluster'] = pd.DataFrame(dbscan_classifier.labels_).copy()"
   ]
  },
  {
   "cell_type": "markdown",
   "id": "cc1a1f8e",
   "metadata": {},
   "source": [
    "Teraz chcę zwizualizować podział na klastry dokonany przez DBSCAN. W tym celu wykonuję redukcję wymiarów t-SNE, dopisuję dwa wymiary do źródłowego dataframe'a, i wyświetlam wyniki na wykresie punktowym."
   ]
  },
  {
   "cell_type": "code",
   "execution_count": null,
   "id": "13374a33",
   "metadata": {},
   "outputs": [],
   "source": [
    "from sklearn.manifold import TSNE\n",
    "\n",
    "x_tsne_array = TSNE(n_components=2).fit_transform(df_x)"
   ]
  },
  {
   "cell_type": "code",
   "execution_count": null,
   "id": "af3391f8",
   "metadata": {},
   "outputs": [],
   "source": [
    "df_x[\"tsne_x_component\"] = x_tsne_array[:,0]\n",
    "df_x[\"tsne_y_component\"] = x_tsne_array[:,1]"
   ]
  },
  {
   "cell_type": "code",
   "execution_count": null,
   "id": "d1ff9e35",
   "metadata": {},
   "outputs": [],
   "source": [
    "plt.figure(figsize=(20,15))\n",
    "sns.scatterplot(x='tsne_x_component',y='tsne_y_component',data=df_x,hue='dbscan_cluster')\n",
    "plt.show()"
   ]
  },
  {
   "cell_type": "code",
   "execution_count": null,
   "id": "0aa2aef3",
   "metadata": {},
   "outputs": [],
   "source": [
    "df_x['dbscan_cluster'].value_counts()"
   ]
  },
  {
   "cell_type": "markdown",
   "id": "34b55bc7",
   "metadata": {},
   "source": [
    "Najwidoczniej grupa klientów nie dzieli się na wyraźne podgrupy, zdecydowana większość znajduje się w jednym klastrze, jest także sporo klastrów z pojedynczymi obserwacjami."
   ]
  },
  {
   "cell_type": "code",
   "execution_count": null,
   "id": "0b6d4b01",
   "metadata": {},
   "outputs": [],
   "source": [
    "# ponieważ cały dataset jest wystandaryzowany, a nowo dodane zmienne z klasteryzacji nie, to standaryzuję je też\n",
    "from sklearn.preprocessing import StandardScaler\n",
    "\n",
    "scaler = StandardScaler()\n",
    "df_new_vars = df_x[['kmeans_cluster_3', 'tsne_x_component', 'tsne_y_component']].copy()\n",
    "scaled_x_array = scaler.fit_transform(df_new_vars)\n",
    "df_new_vars = pd.DataFrame(scaled_x_array,columns=df_new_vars.columns) \n",
    "\n",
    "df_x[['kmeans_cluster_3', 'tsne_x_component', 'tsne_y_component']] = df_new_vars"
   ]
  },
  {
   "cell_type": "code",
   "execution_count": null,
   "id": "c19d3611",
   "metadata": {},
   "outputs": [],
   "source": [
    "df_x.to_csv('Loan_data_x_after_unsupervised.csv', index=False)"
   ]
  },
  {
   "cell_type": "code",
   "execution_count": null,
   "id": "1095782b",
   "metadata": {},
   "outputs": [],
   "source": [
    "# df_x = pd.read_csv('Loan_data_x_after_unsupervised_v2.csv')\n",
    "# df_y = pd.read_csv(\"Loan_data_y_v2.csv\")"
   ]
  },
  {
   "cell_type": "markdown",
   "id": "ebdb315c",
   "metadata": {},
   "source": [
    "## Uczenie nadzorowane"
   ]
  },
  {
   "cell_type": "code",
   "execution_count": null,
   "id": "67eaed36",
   "metadata": {},
   "outputs": [],
   "source": [
    "df_x[sorted(df_x)].columns.tolist()"
   ]
  },
  {
   "cell_type": "code",
   "execution_count": null,
   "id": "f36ee69e",
   "metadata": {},
   "outputs": [],
   "source": [
    "# pierwszy zestaw predyktorów - zmienne wyjściowe\n",
    "predictors_orig = [\n",
    "'acc_ratio',\n",
    " 'annual_inc',\n",
    " 'annual_inc_bin',\n",
    " 'annual_inc_outliers',\n",
    " 'dbscan_cluster',\n",
    " 'delinq_2yrs',\n",
    " 'delinq_2yrs_outliers',\n",
    " 'dti',\n",
    " 'earliest_cr_line_month',\n",
    " 'earliest_cr_line_year',\n",
    " 'emp_length',\n",
    " 'emp_length_bin',\n",
    " 'fico_range_low',\n",
    " 'grade_num',\n",
    " 'home_MORTGAGE',\n",
    " 'home_OTHER',\n",
    " 'home_OWN',\n",
    " 'home_RENT',\n",
    " 'inc_source_ver_status',\n",
    " 'inc_ver_status',\n",
    " 'inq_last_6mths',\n",
    " 'installment',\n",
    " 'installment_outliers',\n",
    " 'installmentc_bin',\n",
    " 'int_rate',\n",
    " 'int_rate_bin',\n",
    " 'issue_d_month',\n",
    " 'issue_d_year',\n",
    " 'kmeans_cluster_3',\n",
    " 'loan_amnt', \n",
    " 'loan_amnt_bin',\n",
    " 'open_acc',\n",
    " 'revol_bal',\n",
    " 'revol_bal_outliers',\n",
    " 'revol_util',\n",
    " 'term',\n",
    " 'total_acc',\n",
    " 'tsne_x_component',\n",
    " 'tsne_y_component'\n",
    "]"
   ]
  },
  {
   "cell_type": "code",
   "execution_count": 5,
   "id": "d4c55fca",
   "metadata": {},
   "outputs": [],
   "source": [
    "# drugi zestaw predyktorów - logarytmowane\n",
    "predictors_log = [\n",
    "'acc_ratio',\n",
    " 'annual_inc_bin', \n",
    "'annual_inc_log+1',\n",
    " 'annual_inc_outliers',\n",
    " # 'dbscan_cluster',  # usuwam, bo nie zrobiłam tymczasowo nienadzorowanego\n",
    " 'delinq_2yrs',\n",
    " 'delinq_2yrs_outliers',\n",
    " 'dti',\n",
    " 'earliest_cr_line_month',\n",
    " 'earliest_cr_line_year',\n",
    " 'emp_length',\n",
    " 'emp_length_bin',\n",
    " 'fico_range_low',\n",
    " 'grade_num',\n",
    " 'home_MORTGAGE',\n",
    " 'home_OTHER',\n",
    " 'home_OWN',\n",
    " 'home_RENT',\n",
    " 'inc_source_ver_status',\n",
    " 'inc_ver_status',\n",
    " 'inq_last_6mths',\n",
    " 'installment_log+1',\n",
    " 'installment_outliers',\n",
    " 'installmentc_bin',\n",
    " 'int_rate', 'int_rate_log+1',\n",
    " 'int_rate_bin',\n",
    " 'issue_d_month',\n",
    " 'issue_d_year',\n",
    " # 'kmeans_cluster_3', # usuwam, bo nie zrobiłam tymczasowo nienadzorowanego\n",
    " 'loan_amnt_log+1',\n",
    " 'loan_amnt_bin',\n",
    " 'open_acc',\n",
    " 'revol_bal',\n",
    " 'revol_bal_outliers',\n",
    " 'revol_util',\n",
    " 'term',\n",
    " 'total_acc',\n",
    " # 'tsne_x_component', # usuwam, bo nie zrobiłam tymczasowo nienadzorowanego\n",
    " # 'tsne_y_component' # usuwam, bo nie zrobiłam tymczasowo nienadzorowanego\n",
    "]"
   ]
  },
  {
   "cell_type": "code",
   "execution_count": null,
   "id": "02e21072",
   "metadata": {},
   "outputs": [],
   "source": [
    "# trzeci zestaw - zmienne kategoryzowane\n",
    "predictors_cat = [\n",
    " 'acc_ratio',\n",
    " 'annual_inc_bin',\n",
    " 'annual_inc_cat_10',\n",
    " 'annual_inc_outliers',\n",
    " 'dbscan_cluster',\n",
    " 'delinq_2yrs',\n",
    " 'delinq_2yrs_outliers',\n",
    " 'dti',\n",
    " 'earliest_cr_line_month',\n",
    " 'earliest_cr_line_year',\n",
    " 'emp_length',\n",
    " 'emp_length_bin',\n",
    " 'fico_range_low_cat_num',\n",
    " 'grade_num',\n",
    " 'home_MORTGAGE',\n",
    " 'home_OTHER',\n",
    " 'home_OWN',\n",
    " 'home_RENT',\n",
    " 'inc_source_ver_status',\n",
    " 'inc_ver_status',\n",
    " 'inq_last_6mths',\n",
    " 'installment',\n",
    " 'installment_outliers',\n",
    " 'installmentc_bin',\n",
    " 'int_rate',\n",
    " 'int_rate_bin',\n",
    " 'issue_d_month',\n",
    " 'issue_d_year',\n",
    " 'kmeans_cluster_3',\n",
    " 'loan_amnt_cat_10',\n",
    " 'loan_amnt_bin',\n",
    " 'open_acc',\n",
    " 'revol_bal',\n",
    " 'revol_bal_outliers',\n",
    " 'revol_util',\n",
    " 'term',\n",
    " 'total_acc',\n",
    " 'tsne_x_component',\n",
    " 'tsne_y_component'\n",
    "]"
   ]
  },
  {
   "cell_type": "code",
   "execution_count": 6,
   "id": "a49253a7",
   "metadata": {},
   "outputs": [],
   "source": [
    "df_x = df_x[predictors_log]"
   ]
  },
  {
   "cell_type": "markdown",
   "id": "d6a1655d",
   "metadata": {},
   "source": [
    "### SMOTE - Balancing for imbalanced clasification"
   ]
  },
  {
   "cell_type": "code",
   "execution_count": 7,
   "id": "3316e5c0",
   "metadata": {},
   "outputs": [
    {
     "name": "stdout",
     "output_type": "stream",
     "text": [
      "Resampled dataset shape Counter({1: 34116, 0: 34116})\n"
     ]
    }
   ],
   "source": [
    "# SMOTE balancing\n",
    "from sklearn.datasets import make_classification\n",
    "from imblearn.over_sampling import SMOTE\n",
    "\n",
    "sm = SMOTE(random_state=42)\n",
    "df_x, df_y = sm.fit_resample(df_x, df_y)\n",
    "# jak robię balansowanie klas, to tylko na zbiorze treningowym\n",
    "\n",
    "# wyświetlam efekt\n",
    "from collections import Counter\n",
    "print('Resampled dataset shape %s' % Counter(df_y['target']))\n",
    "\n",
    "# # (albo po prostu tak jak robiłam to wcześniej:)\n",
    "# # rozkład zmiennej - procentowo\n",
    "# val = df_y['target'].value_counts()#.sort_values()\n",
    "# round(100*(val/len(df_y.index)), 2)"
   ]
  },
  {
   "cell_type": "markdown",
   "id": "35102cde",
   "metadata": {},
   "source": [
    "### 1. Regresja Logistyczna"
   ]
  },
  {
   "cell_type": "code",
   "execution_count": 8,
   "id": "35ebc0fb",
   "metadata": {},
   "outputs": [
    {
     "name": "stdout",
     "output_type": "stream",
     "text": [
      "List of AUROC scores: [0.8843875110120958, 0.8888569444578065, 0.8820311192359868, 0.8887901634014221, 0.8895887314436468, 0.8874410009956754, 0.8928795810258721, 0.8914449252693598, 0.8914742250006272, 0.8827972943201826]\n",
      "\n",
      "Mean AUROC: 88.797 %\n"
     ]
    }
   ],
   "source": [
    "logReg = modelling.Model(df_x, df_y, LogisticRegression(max_iter=500))\n",
    "logReg.train_model()"
   ]
  },
  {
   "cell_type": "code",
   "execution_count": 9,
   "id": "f8ef2615",
   "metadata": {},
   "outputs": [
    {
     "data": {
      "text/html": [
       "<div>\n",
       "<style scoped>\n",
       "    .dataframe tbody tr th:only-of-type {\n",
       "        vertical-align: middle;\n",
       "    }\n",
       "\n",
       "    .dataframe tbody tr th {\n",
       "        vertical-align: top;\n",
       "    }\n",
       "\n",
       "    .dataframe thead th {\n",
       "        text-align: right;\n",
       "    }\n",
       "</style>\n",
       "<table border=\"1\" class=\"dataframe\">\n",
       "  <thead>\n",
       "    <tr style=\"text-align: right;\">\n",
       "      <th></th>\n",
       "      <th>Method</th>\n",
       "      <th>ROC AUC score</th>\n",
       "    </tr>\n",
       "  </thead>\n",
       "  <tbody>\n",
       "    <tr>\n",
       "      <th>1</th>\n",
       "      <td>Logistic Regression</td>\n",
       "      <td>0.888</td>\n",
       "    </tr>\n",
       "  </tbody>\n",
       "</table>\n",
       "</div>"
      ],
      "text/plain": [
       "                Method  ROC AUC score\n",
       "1  Logistic Regression          0.888"
      ]
     },
     "execution_count": 9,
     "metadata": {},
     "output_type": "execute_result"
    }
   ],
   "source": [
    "modelling.compare_results('Logistic Regression', logReg.auroc_mean)"
   ]
  },
  {
   "cell_type": "code",
   "execution_count": 10,
   "id": "24875bcc",
   "metadata": {},
   "outputs": [
    {
     "data": {
      "image/png": "[encoded data removed]",
      "text/plain": [
       "<Figure size 1440x1080 with 1 Axes>"
      ]
     },
     "metadata": {
      "needs_background": "light"
     },
     "output_type": "display_data"
    }
   ],
   "source": [
    "importances = pd.DataFrame(data={\n",
    "    'Attribute': df_x.columns,\n",
    "    'Importance': logReg.model.coef_[0]\n",
    "})\n",
    "importances = importances.sort_values(by='Importance', ascending=False)\n",
    "\n",
    "plt.figure(figsize=(20,15))\n",
    "plt.bar(x=importances['Attribute'], height=importances['Importance'], color='#087E8B')\n",
    "plt.title('Feature importances from coefficients', size=20)\n",
    "plt.xticks(rotation='vertical')\n",
    "plt.show()"
   ]
  },
  {
   "cell_type": "markdown",
   "id": "04c9ebff",
   "metadata": {},
   "source": [
    "Zmienne o zerowym/znikomym znaczeniu: open_acc, total_acc, inc_ver_status, dti"
   ]
  },
  {
   "cell_type": "code",
   "execution_count": null,
   "id": "46f5d478",
   "metadata": {},
   "outputs": [],
   "source": [
    "# nic nie wywalam na razie, a może i w ogóle.\n",
    "# df_x = df_x.drop(columns=['dti', 'delinq_2yrs']) # annual_inc_log+1 ??? ta zmienna powinna mieć bardzo duże znaczenie.                                                   "
   ]
  },
  {
   "cell_type": "markdown",
   "id": "f8f9ce7d",
   "metadata": {},
   "source": [
    "### 2. Random Forest"
   ]
  },
  {
   "cell_type": "code",
   "execution_count": 11,
   "id": "d44dd606",
   "metadata": {},
   "outputs": [
    {
     "name": "stdout",
     "output_type": "stream",
     "text": [
      "List of AUROC scores: [0.9375292481951157, 0.9374715678338228, 0.9074288738283115, 0.9147001477531316, 0.950356159284681, 0.9355880206888754, 0.9320973142886799, 0.9534460780118663, 0.9195260970386477, 0.9109151981572616]\n",
      "\n",
      "Mean AUROC: 92.991 %\n"
     ]
    }
   ],
   "source": [
    "randFor = modelling.Model(df_x, df_y, RandomForestClassifier())\n",
    "randFor.train_model()"
   ]
  },
  {
   "cell_type": "code",
   "execution_count": 12,
   "id": "ad563e24",
   "metadata": {},
   "outputs": [
    {
     "data": {
      "text/html": [
       "<div>\n",
       "<style scoped>\n",
       "    .dataframe tbody tr th:only-of-type {\n",
       "        vertical-align: middle;\n",
       "    }\n",
       "\n",
       "    .dataframe tbody tr th {\n",
       "        vertical-align: top;\n",
       "    }\n",
       "\n",
       "    .dataframe thead th {\n",
       "        text-align: right;\n",
       "    }\n",
       "</style>\n",
       "<table border=\"1\" class=\"dataframe\">\n",
       "  <thead>\n",
       "    <tr style=\"text-align: right;\">\n",
       "      <th></th>\n",
       "      <th>Method</th>\n",
       "      <th>ROC AUC score</th>\n",
       "    </tr>\n",
       "  </thead>\n",
       "  <tbody>\n",
       "    <tr>\n",
       "      <th>1</th>\n",
       "      <td>Logistic Regression</td>\n",
       "      <td>0.888</td>\n",
       "    </tr>\n",
       "    <tr>\n",
       "      <th>2</th>\n",
       "      <td>Random Forest</td>\n",
       "      <td>0.930</td>\n",
       "    </tr>\n",
       "  </tbody>\n",
       "</table>\n",
       "</div>"
      ],
      "text/plain": [
       "                Method  ROC AUC score\n",
       "1  Logistic Regression          0.888\n",
       "2        Random Forest          0.930"
      ]
     },
     "execution_count": 12,
     "metadata": {},
     "output_type": "execute_result"
    }
   ],
   "source": [
    "modelling.compare_results('Random Forest', randFor.auroc_mean)"
   ]
  },
  {
   "cell_type": "markdown",
   "id": "eac691ba",
   "metadata": {},
   "source": [
    "### 3. K-NN"
   ]
  },
  {
   "cell_type": "markdown",
   "id": "995e45cf",
   "metadata": {},
   "source": [
    "Najpierw wybieram optymalne K - sprawdzam średni błąd dla K w zakresie od 1 do 30."
   ]
  },
  {
   "cell_type": "code",
   "execution_count": 19,
   "id": "c37665ac",
   "metadata": {},
   "outputs": [],
   "source": [
    "train_x, test_x, train_y, test_y = train_test_split(df_x, df_y, test_size=0.3, random_state=0, stratify = df_y)"
   ]
  },
  {
   "cell_type": "code",
   "execution_count": 21,
   "id": "bda68fb1",
   "metadata": {},
   "outputs": [],
   "source": [
    "# modelling.standarize_dataset(train_x)\n",
    "# modelling.standarize_dataset(test_x) # tego spróbowałam, ale zaniepokoił mnie wynik więc spróbowałam jeszcze raz na piechotę\n",
    "# to zrobić poniżej - z tym samym efektem, więc prawdopodobnie równie dobrze mogłabym użyc funkcji z pliku\n",
    "scaler = StandardScaler()\n",
    "\n",
    "scaled_x_array = scaler.fit_transform(train_x)\n",
    "train_x = pd.DataFrame(scaled_x_array,columns=train_x.columns)\n",
    "\n",
    "scaled_x_array = scaler.fit_transform(test_x)\n",
    "test_x = pd.DataFrame(scaled_x_array,columns=test_x.columns)"
   ]
  },
  {
   "cell_type": "code",
   "execution_count": 22,
   "id": "c86c808b",
   "metadata": {},
   "outputs": [],
   "source": [
    "knn_error=[]\n",
    "for i in range(1,30):\n",
    "    knn = KNeighborsClassifier(n_neighbors=i)\n",
    "    knn.fit(train_x,np.ravel(train_y))\n",
    "    pred_i = knn.predict(test_x)\n",
    "    knn_error.append(np.mean(pred_i != test_y.values)) "
   ]
  },
  {
   "cell_type": "markdown",
   "id": "7241cbad",
   "metadata": {},
   "source": [
    "# PONIŻEJ - CZEMU TEN ERROR SIĘ NIE ZMIENIA - zapytać na konsach"
   ]
  },
  {
   "cell_type": "code",
   "execution_count": 23,
   "id": "8cf4f07e",
   "metadata": {},
   "outputs": [
    {
     "data": {
      "text/plain": [
       "Text(0, 0.5, 'Mean error')"
      ]
     },
     "execution_count": 23,
     "metadata": {},
     "output_type": "execute_result"
    },
    {
     "data": {
      "image/png": "[encoded data removed]",
      "text/plain": [
       "<Figure size 864x432 with 1 Axes>"
      ]
     },
     "metadata": {
      "needs_background": "light"
     },
     "output_type": "display_data"
    }
   ],
   "source": [
    "plt.figure(figsize=(12,6))\n",
    "plt.plot(range(1,30), knn_error, color='red', linestyle='dashed', marker='o', markerfacecolor='blue', markersize=10)\n",
    "plt.title('Error Rate K Value')\n",
    "plt.xlabel('K Value')\n",
    "plt.ylabel('Mean error')\n",
    "# LOL czemu "
   ]
  },
  {
   "cell_type": "code",
   "execution_count": 24,
   "id": "519bbc03",
   "metadata": {},
   "outputs": [
    {
     "name": "stdout",
     "output_type": "stream",
     "text": [
      "List of AUROC scores: [0.9138736000379324, 0.9149494268212734, 0.9087991303221115, 0.9154690723722265, 0.9165490381267694, 0.9149587758795678, 0.9162751586739406, 0.9199148125349921, 0.9139640886683762, 0.9119486795874185]\n",
      "\n",
      "Mean AUROC: 91.467 %\n"
     ]
    },
    {
     "data": {
      "text/html": [
       "<div>\n",
       "<style scoped>\n",
       "    .dataframe tbody tr th:only-of-type {\n",
       "        vertical-align: middle;\n",
       "    }\n",
       "\n",
       "    .dataframe tbody tr th {\n",
       "        vertical-align: top;\n",
       "    }\n",
       "\n",
       "    .dataframe thead th {\n",
       "        text-align: right;\n",
       "    }\n",
       "</style>\n",
       "<table border=\"1\" class=\"dataframe\">\n",
       "  <thead>\n",
       "    <tr style=\"text-align: right;\">\n",
       "      <th></th>\n",
       "      <th>Method</th>\n",
       "      <th>ROC AUC score</th>\n",
       "    </tr>\n",
       "  </thead>\n",
       "  <tbody>\n",
       "    <tr>\n",
       "      <th>1</th>\n",
       "      <td>Logistic Regression</td>\n",
       "      <td>0.888</td>\n",
       "    </tr>\n",
       "    <tr>\n",
       "      <th>2</th>\n",
       "      <td>Random Forest</td>\n",
       "      <td>0.930</td>\n",
       "    </tr>\n",
       "    <tr>\n",
       "      <th>3</th>\n",
       "      <td>KNN Classifier</td>\n",
       "      <td>0.915</td>\n",
       "    </tr>\n",
       "  </tbody>\n",
       "</table>\n",
       "</div>"
      ],
      "text/plain": [
       "                Method  ROC AUC score\n",
       "1  Logistic Regression          0.888\n",
       "2        Random Forest          0.930\n",
       "3       KNN Classifier          0.915"
      ]
     },
     "execution_count": 24,
     "metadata": {},
     "output_type": "execute_result"
    }
   ],
   "source": [
    "# dobra załóżmy, że wybieram k = 15\n",
    "knn = modelling.Model(df_x, df_y, KNeighborsClassifier(n_neighbors=15))\n",
    "knn.train_model()\n",
    "modelling.compare_results('KNN Classifier', knn.auroc_mean)"
   ]
  },
  {
   "cell_type": "markdown",
   "id": "0e1f411a",
   "metadata": {},
   "source": [
    "### 4. MLP"
   ]
  },
  {
   "cell_type": "code",
   "execution_count": 25,
   "id": "4fc5e29b",
   "metadata": {},
   "outputs": [
    {
     "name": "stdout",
     "output_type": "stream",
     "text": [
      "List of AUROC scores: [0.9199713548073211, 0.9236577440630888, 0.9152897511430332, 0.9268204412797298, 0.9293755325075792, 0.925736694914701, 0.9237052182391772, 0.9243850407429518, 0.9256107318471412, 0.9185926299404417]\n",
      "\n",
      "Mean AUROC: 92.331 %\n"
     ]
    },
    {
     "data": {
      "text/html": [
       "<div>\n",
       "<style scoped>\n",
       "    .dataframe tbody tr th:only-of-type {\n",
       "        vertical-align: middle;\n",
       "    }\n",
       "\n",
       "    .dataframe tbody tr th {\n",
       "        vertical-align: top;\n",
       "    }\n",
       "\n",
       "    .dataframe thead th {\n",
       "        text-align: right;\n",
       "    }\n",
       "</style>\n",
       "<table border=\"1\" class=\"dataframe\">\n",
       "  <thead>\n",
       "    <tr style=\"text-align: right;\">\n",
       "      <th></th>\n",
       "      <th>Method</th>\n",
       "      <th>ROC AUC score</th>\n",
       "    </tr>\n",
       "  </thead>\n",
       "  <tbody>\n",
       "    <tr>\n",
       "      <th>1</th>\n",
       "      <td>Logistic Regression</td>\n",
       "      <td>0.888</td>\n",
       "    </tr>\n",
       "    <tr>\n",
       "      <th>2</th>\n",
       "      <td>Random Forest</td>\n",
       "      <td>0.930</td>\n",
       "    </tr>\n",
       "    <tr>\n",
       "      <th>3</th>\n",
       "      <td>KNN Classifier</td>\n",
       "      <td>0.915</td>\n",
       "    </tr>\n",
       "    <tr>\n",
       "      <th>4</th>\n",
       "      <td>MLP Classifier</td>\n",
       "      <td>0.923</td>\n",
       "    </tr>\n",
       "  </tbody>\n",
       "</table>\n",
       "</div>"
      ],
      "text/plain": [
       "                Method  ROC AUC score\n",
       "1  Logistic Regression          0.888\n",
       "2        Random Forest          0.930\n",
       "3       KNN Classifier          0.915\n",
       "4       MLP Classifier          0.923"
      ]
     },
     "execution_count": 25,
     "metadata": {},
     "output_type": "execute_result"
    }
   ],
   "source": [
    "mlp = modelling.Model(df_x, df_y, MLPClassifier(max_iter=1000))\n",
    "mlp.train_model()\n",
    "modelling.compare_results('MLP Classifier', mlp.auroc_mean)"
   ]
  },
  {
   "cell_type": "markdown",
   "id": "79797f15",
   "metadata": {},
   "source": [
    "### 5. XGBoost"
   ]
  },
  {
   "cell_type": "code",
   "execution_count": 29,
   "id": "2183ed8c",
   "metadata": {},
   "outputs": [],
   "source": [
    "# from xgboost import XGBClassifier\n",
    "# from lightgbm import LGBMClassifier"
   ]
  },
  {
   "cell_type": "code",
   "execution_count": 30,
   "id": "84286e5a",
   "metadata": {},
   "outputs": [
    {
     "name": "stdout",
     "output_type": "stream",
     "text": [
      "List of AUROC scores: [0.8832203748854123, 0.8984765083307105, 0.8709743801775032, 0.8826361028367294, 0.8950748268738167, 0.8940812136996951, 0.8743087927032843, 0.9042907523174284, 0.8728444076006767, 0.8831747539080343]\n",
      "\n",
      "Mean AUROC: 88.591 %\n"
     ]
    },
    {
     "data": {
      "text/html": [
       "<div>\n",
       "<style scoped>\n",
       "    .dataframe tbody tr th:only-of-type {\n",
       "        vertical-align: middle;\n",
       "    }\n",
       "\n",
       "    .dataframe tbody tr th {\n",
       "        vertical-align: top;\n",
       "    }\n",
       "\n",
       "    .dataframe thead th {\n",
       "        text-align: right;\n",
       "    }\n",
       "</style>\n",
       "<table border=\"1\" class=\"dataframe\">\n",
       "  <thead>\n",
       "    <tr style=\"text-align: right;\">\n",
       "      <th></th>\n",
       "      <th>Method</th>\n",
       "      <th>ROC AUC score</th>\n",
       "    </tr>\n",
       "  </thead>\n",
       "  <tbody>\n",
       "    <tr>\n",
       "      <th>1</th>\n",
       "      <td>Logistic Regression</td>\n",
       "      <td>0.888</td>\n",
       "    </tr>\n",
       "    <tr>\n",
       "      <th>2</th>\n",
       "      <td>Random Forest</td>\n",
       "      <td>0.930</td>\n",
       "    </tr>\n",
       "    <tr>\n",
       "      <th>3</th>\n",
       "      <td>KNN Classifier</td>\n",
       "      <td>0.915</td>\n",
       "    </tr>\n",
       "    <tr>\n",
       "      <th>4</th>\n",
       "      <td>MLP Classifier</td>\n",
       "      <td>0.923</td>\n",
       "    </tr>\n",
       "    <tr>\n",
       "      <th>5</th>\n",
       "      <td>MLP Classifier</td>\n",
       "      <td>0.922</td>\n",
       "    </tr>\n",
       "    <tr>\n",
       "      <th>6</th>\n",
       "      <td>XGBoost</td>\n",
       "      <td>0.886</td>\n",
       "    </tr>\n",
       "  </tbody>\n",
       "</table>\n",
       "</div>"
      ],
      "text/plain": [
       "                Method  ROC AUC score\n",
       "1  Logistic Regression          0.888\n",
       "2        Random Forest          0.930\n",
       "3       KNN Classifier          0.915\n",
       "4       MLP Classifier          0.923\n",
       "5       MLP Classifier          0.922\n",
       "6              XGBoost          0.886"
      ]
     },
     "execution_count": 30,
     "metadata": {},
     "output_type": "execute_result"
    }
   ],
   "source": [
    "xgbm = modelling.Model(df_x, df_y, XGBClassifier())\n",
    "xgbm.train_model()\n",
    "modelling.compare_results('XGBoost', xgbm.auroc_mean)"
   ]
  },
  {
   "cell_type": "markdown",
   "id": "e7ea0588",
   "metadata": {},
   "source": [
    "# wynik xgboost zaskakująco stosunkowo niski, może zapytac na konsach"
   ]
  },
  {
   "cell_type": "markdown",
   "id": "386b372e",
   "metadata": {},
   "source": [
    "### 6. Light GBM Boost"
   ]
  },
  {
   "cell_type": "code",
   "execution_count": null,
   "id": "cba1937a",
   "metadata": {},
   "outputs": [],
   "source": [
    "# tego jeszcze nie uruchomiłam\n",
    "lgbm = modelling.Model(df_x, df_y, LGBMClassifier())\n",
    "lgbm.train_model()\n",
    "modelling.compare_results('Light GBM', lgbm.auroc_mean)"
   ]
  },
  {
   "cell_type": "markdown",
   "id": "27af4bda",
   "metadata": {},
   "source": [
    "# Modele na zbiorze PCA"
   ]
  },
  {
   "cell_type": "markdown",
   "id": "f2b4ddac",
   "metadata": {},
   "source": [
    "# dorobiłam funkcję do PCA w pliku modelling, treba ją przetestować i przepuścić - tutaj skończyłam noc 31.05-01.06"
   ]
  },
  {
   "cell_type": "markdown",
   "id": "f9e4732f",
   "metadata": {},
   "source": [
    "### Regresja Logistyczna - PCA"
   ]
  },
  {
   "cell_type": "code",
   "execution_count": null,
   "id": "d844a470",
   "metadata": {},
   "outputs": [],
   "source": [
    "LogisticRegr_7 = LogisticRegression(max_iter=500)\n",
    "\n",
    "skf = StratifiedKFold(n_splits=10, shuffle=True, random_state=1)\n",
    "list_auroc_stratified = []\n",
    "\n",
    "array_x = df_x.to_numpy()\n",
    "array_y = df_y.to_numpy()\n",
    "\n",
    "for train_index, test_index in skf.split(df_x, df_y):\n",
    "    x_train_fold, x_test_fold = array_x[train_index], array_x[test_index]\n",
    "    y_train_fold, y_test_fold = array_y[train_index], array_y[test_index]\n",
    "    LogisticRegr_7.fit(x_train_fold, np.ravel(y_train_fold))\n",
    "    list_auroc_stratified.append(roc_auc_score(y_test_fold, LogisticRegr_7.predict_proba(x_test_fold)[:, 1]))\n",
    "\n",
    "print('List of aurocs:', list_auroc_stratified)\n",
    "auroc_mean_7 = np.mean(list_auroc_stratified)\n",
    "print('\\nMean AUROC:', round((auroc_mean_7)*100, 3), '%')"
   ]
  },
  {
   "cell_type": "markdown",
   "id": "4948451e",
   "metadata": {},
   "source": [
    "### Random forest - PCA"
   ]
  },
  {
   "cell_type": "code",
   "execution_count": null,
   "id": "71c4aaf0",
   "metadata": {},
   "outputs": [],
   "source": [
    "RandomForClass_8 = RandomForestClassifier()\n",
    "\n",
    "skf = StratifiedKFold(n_splits=10, shuffle=True, random_state=1)\n",
    "list_auroc_stratified = []\n",
    "\n",
    "array_x = df_x.to_numpy()\n",
    "array_y = df_y.to_numpy()\n",
    "\n",
    "for train_index, test_index in skf.split(df_x, df_y):\n",
    "    x_train_fold, x_test_fold = array_x[train_index], array_x[test_index]\n",
    "    y_train_fold, y_test_fold = array_y[train_index], array_y[test_index]\n",
    "    RandomForClass_8.fit(x_train_fold, np.ravel(y_train_fold))\n",
    "    list_auroc_stratified.append(roc_auc_score(y_test_fold, RandomForClass_8.predict_proba(x_test_fold)[:, 1]))\n",
    "\n",
    "print('List of aurocs:', list_auroc_stratified)\n",
    "auroc_mean_8 = np.mean(list_auroc_stratified) \n",
    "print('\\nMean AUROC:', round((auroc_mean_8)*100, 3), '%')"
   ]
  },
  {
   "cell_type": "code",
   "execution_count": null,
   "id": "f5b0b53c",
   "metadata": {},
   "outputs": [],
   "source": [
    "tempResultsDf = pd.DataFrame({'Method':['Random Forest PCA'], 'ROC AUC score': round(auroc_mean_8,3)},index=['8'])\n",
    "results = pd.concat([results, tempResultsDf])\n",
    "results"
   ]
  },
  {
   "cell_type": "markdown",
   "id": "96facada",
   "metadata": {},
   "source": [
    "### KNN - PCA TUTAJ ZAKOŃCZYŁAM"
   ]
  },
  {
   "cell_type": "code",
   "execution_count": null,
   "id": "dc3bbacd",
   "metadata": {},
   "outputs": [],
   "source": [
    "KNN_9 = KNeighborsClassifier(n_neighbors=15)\n",
    "\n",
    "skf = StratifiedKFold(n_splits=10, shuffle=True, random_state=1)\n",
    "list_auroc_stratified = []\n",
    "\n",
    "array_x = df_x.to_numpy()\n",
    "array_y = df_y.to_numpy()\n",
    "\n",
    "for train_index, test_index in skf.split(df_x, df_y):\n",
    "    x_train_fold, x_test_fold = array_x[train_index], array_x[test_index]\n",
    "    y_train_fold, y_test_fold = array_y[train_index], array_y[test_index]\n",
    "    KNN_9.fit(x_train_fold, np.ravel(y_train_fold))\n",
    "    list_auroc_stratified.append(roc_auc_score(y_test_fold, KNN_9.predict_proba(x_test_fold)[:,1]))\n",
    "\n",
    "print('List of aurocs:', list_auroc_stratified)\n",
    "auroc_mean_9 = np.mean(list_auroc_stratified)\n",
    "print('\\nMean AUROC:', round((auroc_mean_9)*100, 3), '%')"
   ]
  },
  {
   "cell_type": "code",
   "execution_count": null,
   "id": "35786d7a",
   "metadata": {},
   "outputs": [],
   "source": [
    "tempResultsDf = pd.DataFrame({'Method':['KNN PCA'], 'ROC AUC score': round(auroc_mean_9,3)},index=['9'])\n",
    "results = pd.concat([results, tempResultsDf])\n",
    "results"
   ]
  },
  {
   "cell_type": "markdown",
   "id": "48def07b",
   "metadata": {},
   "source": [
    "### MLP - PCA"
   ]
  },
  {
   "cell_type": "code",
   "execution_count": null,
   "id": "d18dc1dd",
   "metadata": {},
   "outputs": [],
   "source": [
    "MLPmodel_10 = MLPClassifier(max_iter=1000)\n",
    "\n",
    "skf = StratifiedKFold(n_splits=10, shuffle=True, random_state=1)\n",
    "list_auroc_stratified = []\n",
    "\n",
    "array_x = df_x.to_numpy()\n",
    "array_y = df_y.to_numpy()\n",
    "\n",
    "for train_index, test_index in skf.split(df_x, df_y):\n",
    "    x_train_fold, x_test_fold = array_x[train_index], array_x[test_index]\n",
    "    y_train_fold, y_test_fold = array_y[train_index], array_y[test_index]\n",
    "    MLPmodel_10.fit(x_train_fold, np.ravel(y_train_fold))\n",
    "    list_auroc_stratified.append(roc_auc_score(y_test_fold, MLPmodel_10.predict_proba(x_test_fold)[:,1]))\n",
    "\n",
    "print('List of aurocs:', list_auroc_stratified)\n",
    "auroc_mean_10 = np.mean(list_auroc_stratified)\n",
    "print('\\nMean AUROC:', round((auroc_mean_10)*100, 3), '%')"
   ]
  },
  {
   "cell_type": "code",
   "execution_count": null,
   "id": "598f12fc",
   "metadata": {},
   "outputs": [],
   "source": [
    "tempResultsDf = pd.DataFrame({'Method':['MLP PCA'], 'ROC AUC score': round(auroc_mean_10,3)},index=['10'])\n",
    "results = pd.concat([results, tempResultsDf])\n",
    "results"
   ]
  },
  {
   "cell_type": "markdown",
   "id": "c5634ca4",
   "metadata": {},
   "source": [
    "### XGBoost - PCA"
   ]
  },
  {
   "cell_type": "code",
   "execution_count": null,
   "id": "672639d6",
   "metadata": {},
   "outputs": [],
   "source": [
    "XGBmodel_11 = xgb.XGBClassifier(random_state=1)\n",
    "\n",
    "skf = StratifiedKFold(n_splits=10, shuffle=True, random_state=1)\n",
    "list_auroc_stratified = []\n",
    "\n",
    "array_x = df_x.to_numpy()\n",
    "array_y = df_y.to_numpy()\n",
    "\n",
    "for train_index, test_index in skf.split(df_x, df_y):\n",
    "    x_train_fold, x_test_fold = array_x[train_index], array_x[test_index]\n",
    "    y_train_fold, y_test_fold = array_y[train_index], array_y[test_index]\n",
    "    XGBmodel_11.fit(x_train_fold, np.ravel(y_train_fold))\n",
    "    list_auroc_stratified.append(roc_auc_score(y_test_fold, XGBmodel_11.predict_proba(x_test_fold)[:,1]))\n",
    "\n",
    "print('List of aurocs:', list_auroc_stratified)\n",
    "auroc_mean_11 = np.mean(list_auroc_stratified)\n",
    "print('\\nMean AUROC:', round((auroc_mean_11)*100, 3), '%')"
   ]
  },
  {
   "cell_type": "code",
   "execution_count": null,
   "id": "4e0c8cb4",
   "metadata": {},
   "outputs": [],
   "source": [
    "tempResultsDf = pd.DataFrame({'Method':['XGBClassifier PCA'], 'ROC AUC score': round(auroc_mean_11,3)},index=['11'])\n",
    "results = pd.concat([results, tempResultsDf])\n",
    "results"
   ]
  },
  {
   "cell_type": "markdown",
   "id": "3f148690",
   "metadata": {},
   "source": [
    "### Light GBM - PCA"
   ]
  },
  {
   "cell_type": "code",
   "execution_count": null,
   "id": "bff64c7a",
   "metadata": {},
   "outputs": [],
   "source": [
    "LGBMmodel_12 = lgb.LGBMClassifier()\n",
    "\n",
    "skf = StratifiedKFold(n_splits=10, shuffle=True, random_state=1)\n",
    "list_auroc_stratified = []\n",
    "\n",
    "array_x = df_x.to_numpy()\n",
    "array_y = df_y.to_numpy()\n",
    "\n",
    "for train_index, test_index in skf.split(df_x, df_y):\n",
    "    x_train_fold, x_test_fold = array_x[train_index], array_x[test_index]\n",
    "    y_train_fold, y_test_fold = array_y[train_index], array_y[test_index]\n",
    "    LGBMmodel_12.fit(x_train_fold, np.ravel(y_train_fold))\n",
    "    list_auroc_stratified.append(roc_auc_score(y_test_fold, LGBMmodel_12.predict_proba(x_test_fold)[:,1]))\n",
    "\n",
    "print('List of aurocs:', list_auroc_stratified)\n",
    "auroc_mean_12 = np.mean(list_auroc_stratified)\n",
    "print('\\nMean AUROC:', round((auroc_mean_12)*100, 3), '%')"
   ]
  },
  {
   "cell_type": "code",
   "execution_count": null,
   "id": "1b6c42cf",
   "metadata": {},
   "outputs": [],
   "source": [
    "tempResultsDf = pd.DataFrame({'Method':['LGBMClassifier PCA'], 'ROC AUC score': round(auroc_mean_12,3)},index=['12'])\n",
    "results = pd.concat([results, tempResultsDf])\n",
    "results"
   ]
  },
  {
   "cell_type": "markdown",
   "id": "9e98e78f",
   "metadata": {},
   "source": [
    "Podsumowując działanie modeli na danych po PCA - w żadnym modelu poprawa metryki AUC ROC nie była wyraźna.\n",
    "\n",
    "Modele, które odniosły lepszy rezultat przy PCA: MLP\n",
    "\n",
    "Modele, które uzyskały niższy wynik: XGBoost, Light GBM\n",
    "\n",
    "Porównywalny: regresja logistyczna, random forest, KNN\n",
    "\n",
    "Najlepszy wynik osiągnęłam przy regresji logistycznej oraz Light GBM."
   ]
  },
  {
   "cell_type": "markdown",
   "id": "9c9bb22c",
   "metadata": {},
   "source": [
    "##  Optymalizacja"
   ]
  },
  {
   "cell_type": "code",
   "execution_count": null,
   "id": "35dd1910",
   "metadata": {},
   "outputs": [],
   "source": [
    "df_x = pd.read_csv('Loan_data_x_after_unsupervised.csv')\n",
    "df_x = df_x[predictors_log]"
   ]
  },
  {
   "cell_type": "code",
   "execution_count": null,
   "id": "7677716d",
   "metadata": {},
   "outputs": [],
   "source": [
    "# usuwam zmienne o znikomej istotności dla modelu\n",
    "df_x = df_x.drop(columns=['open_acc', 'total_acc', 'inc_ver_status', 'dti'])"
   ]
  },
  {
   "cell_type": "markdown",
   "id": "40a4f34c",
   "metadata": {},
   "source": [
    "### Regresja logistyczna"
   ]
  },
  {
   "cell_type": "code",
   "execution_count": null,
   "id": "bf49fa8f",
   "metadata": {},
   "outputs": [],
   "source": [
    "# sprawdzenie modelu na innym zastawie predyktorów\n",
    "LogisticRegr_13 = LogisticRegression(max_iter=500)\n",
    "\n",
    "skf = StratifiedKFold(n_splits=10, shuffle=True, random_state=1)\n",
    "list_auroc_stratified = []\n",
    "\n",
    "array_x = df_x.to_numpy()\n",
    "array_y = df_y.to_numpy()\n",
    "\n",
    "for train_index, test_index in skf.split(df_x, df_y):\n",
    "    x_train_fold, x_test_fold = array_x[train_index], array_x[test_index]\n",
    "    y_train_fold, y_test_fold = array_y[train_index], array_y[test_index]\n",
    "    LogisticRegr_13.fit(x_train_fold, np.ravel(y_train_fold))\n",
    "    list_auroc_stratified.append(roc_auc_score(y_test_fold, LogisticRegr_13.predict_proba(x_test_fold)[:, 1]))\n",
    "\n",
    "print('List of aurocs:', list_auroc_stratified)\n",
    "auroc_mean_13 = np.mean(list_auroc_stratified)\n",
    "print('\\nMean AUROC:', round((auroc_mean_13)*100, 3), '%')"
   ]
  },
  {
   "cell_type": "code",
   "execution_count": null,
   "id": "2e208f00",
   "metadata": {},
   "outputs": [],
   "source": [
    "tempResultsDf = pd.DataFrame({'Method':['Reg Log - predictors log 2 '], 'ROC AUC score': round(auroc_mean_13,3)},index=['13'])\n",
    "results = pd.concat([results, tempResultsDf])\n",
    "results"
   ]
  },
  {
   "cell_type": "markdown",
   "id": "26d3b0a7",
   "metadata": {},
   "source": [
    "Wynik na innym zestawie predyktorów oraz po usunięciu nieistotnych zmiennych nie zmienił się."
   ]
  },
  {
   "cell_type": "markdown",
   "id": "05db80e5",
   "metadata": {},
   "source": [
    "### GridSearch"
   ]
  },
  {
   "cell_type": "code",
   "execution_count": null,
   "id": "e076fce3",
   "metadata": {},
   "outputs": [],
   "source": [
    "train_x, test_x, train_y, test_y = train_test_split(df_x, df_y, random_state=0, stratify = df_y)\n",
    "\n",
    "LogisticRegr_14 = LogisticRegression(max_iter=500, random_state=1)\n",
    "grid = {\n",
    "    'solver': ['newton-cg', 'lbfgs', 'liblinear', 'sag', 'saga'],\n",
    "    # 'penalty': ['l2'], # tego nie ustawiam, ponieważ jest to wartość domyślna. nie zmieniam \n",
    "    'C':  [100, 10, 1.0, 0.1, 0.01]\n",
    "}\n",
    "\n",
    "cv = RepeatedStratifiedKFold(n_splits=10, n_repeats=3, random_state=1)\n",
    "grid_search = GridSearchCV(estimator=LogisticRegr_14, param_grid=grid, n_jobs=-1, cv=cv, scoring='roc_auc',error_score=0)\n",
    "grid_result = grid_search.fit(train_x, np.ravel(train_y))\n",
    "\n",
    "print(f\"Best: {grid_result.best_score_} using {grid_result.best_params_}\")\n",
    "means = grid_result.cv_results_['mean_test_score']\n",
    "params = grid_result.cv_results_['params']\n",
    "for mean, param in zip(means, params):\n",
    "    print(f\"{mean} with:{param}\")"
   ]
  },
  {
   "cell_type": "markdown",
   "id": "44add87b",
   "metadata": {},
   "source": [
    "Nie widać zauważalnej różnicy pomiędzy różnymi ustawieniami parametrów. \n",
    "\n",
    "Drugi w kolejności model pod względem AUC ROC score to był Light GBM - spróbuję więc jeszcze jego optymalizacji."
   ]
  },
  {
   "cell_type": "markdown",
   "id": "b52f081d",
   "metadata": {},
   "source": [
    "### Light GBM"
   ]
  },
  {
   "cell_type": "code",
   "execution_count": null,
   "id": "57af2f75",
   "metadata": {},
   "outputs": [],
   "source": [
    "df_x = pd.read_csv('Loan_data_x_after_unsupervised.csv')\n",
    "df_x = df_x[predictors_log]"
   ]
  },
  {
   "cell_type": "code",
   "execution_count": null,
   "id": "72c58e63",
   "metadata": {},
   "outputs": [],
   "source": [
    "df_x = df_x.drop(columns=['open_acc', 'total_acc', 'inc_ver_status', 'dti'])"
   ]
  },
  {
   "cell_type": "code",
   "execution_count": null,
   "id": "2083e313",
   "metadata": {},
   "outputs": [],
   "source": [
    "# uruchamiam najpierw model na zmienionym zestawie predyktorów\n",
    "import lightgbm as lgb\n",
    "LGBMmodel_15 = lgb.LGBMClassifier(random_state = 0)\n",
    "\n",
    "skf = StratifiedKFold(n_splits=10, shuffle=True, random_state=1)\n",
    "list_auroc_stratified = []\n",
    "\n",
    "array_x = df_x.to_numpy()\n",
    "array_y = df_y.to_numpy()\n",
    "\n",
    "for train_index, test_index in skf.split(df_x, df_y):\n",
    "    x_train_fold, x_test_fold = array_x[train_index], array_x[test_index]\n",
    "    y_train_fold, y_test_fold = array_y[train_index], array_y[test_index]\n",
    "    LGBMmodel_15.fit(x_train_fold, np.ravel(y_train_fold))\n",
    "    list_auroc_stratified.append(roc_auc_score(y_test_fold, LGBMmodel_15.predict_proba(x_test_fold)[:,1]))\n",
    "\n",
    "print('List of aurocs:', list_auroc_stratified)\n",
    "auroc_mean_15 = np.mean(list_auroc_stratified)\n",
    "print('\\nMean AUROC:', round((auroc_mean_15)*100, 3), '%')"
   ]
  },
  {
   "cell_type": "markdown",
   "id": "ae650ff7",
   "metadata": {},
   "source": [
    "Wyniki na pozostałych zestawach predyktorów: \n",
    "- Na predyktorach oryginalnych predictors_orig - 68,54%\n",
    "- logarytmicznych predictors_log - 68,439%\n",
    "- kategoryzowanych predictors_cat -  68,601%\n",
    "- logarytmicznych bez najmniej istotnych zmiennych - 68,758%"
   ]
  },
  {
   "cell_type": "code",
   "execution_count": null,
   "id": "be2e0254",
   "metadata": {},
   "outputs": [],
   "source": [
    "tempResultsDf = pd.DataFrame({'Method':['Light GBM - predictors log '], 'ROC AUC score': round(auroc_mean_15,3)},index=['15'])\n",
    "results = pd.concat([results, tempResultsDf])\n",
    "results"
   ]
  },
  {
   "cell_type": "code",
   "execution_count": null,
   "id": "417e5fdd",
   "metadata": {},
   "outputs": [],
   "source": [
    "# trenuję model jeszcze raz w uproszczony sposób, aby wyświetlić feature importances\n",
    "train_x, test_x, train_y, test_y = train_test_split(df_x, df_y, random_state=0, stratify = df_y['target'])\n",
    "LGBMmodel_15.fit(train_x, np.ravel(train_y))"
   ]
  },
  {
   "cell_type": "code",
   "execution_count": null,
   "id": "42159145",
   "metadata": {},
   "outputs": [],
   "source": [
    "lgb.plot_importance(LGBMmodel_15, figsize=(40,20))"
   ]
  },
  {
   "cell_type": "markdown",
   "id": "0613a3b1",
   "metadata": {},
   "source": [
    "Z wykresu feature importances wynika, że najmniejsze znaczenie dla modelu posiadają zmienne: revol_bal_outliers, loan_amnt_bin oraz delinq_2yrs_outliers. Usuwam je więc z zestawu predyktorów."
   ]
  },
  {
   "cell_type": "code",
   "execution_count": null,
   "id": "b98c90ce",
   "metadata": {},
   "outputs": [],
   "source": [
    "df_x = df_x.drop(columns=['revol_bal_outliers', 'loan_amnt_bin', 'delinq_2yrs_outliers'])"
   ]
  },
  {
   "cell_type": "code",
   "execution_count": null,
   "id": "4b1c4384",
   "metadata": {},
   "outputs": [],
   "source": [
    "# powtarzam operację powyżej\n",
    "for train_index, test_index in skf.split(df_x, df_y):\n",
    "    x_train_fold, x_test_fold = array_x[train_index], array_x[test_index]\n",
    "    y_train_fold, y_test_fold = array_y[train_index], array_y[test_index]    \n",
    "    LGBMmodel_15.fit(x_train_fold, np.ravel(y_train_fold))\n",
    "    list_auroc_stratified.append(roc_auc_score(y_test_fold, LGBMmodel_15.predict_proba(x_test_fold)[:,1]))\n",
    "\n",
    "print('List of aurocs:', list_auroc_stratified)\n",
    "auroc_mean_15 = np.mean(list_auroc_stratified)\n",
    "print('\\nMean AUROC:', round((auroc_mean_15)*100, 3), '%')"
   ]
  },
  {
   "cell_type": "code",
   "execution_count": null,
   "id": "81b1c013",
   "metadata": {},
   "outputs": [],
   "source": [
    "tempResultsDf = pd.DataFrame({'Method':['Light GBM - less features '], 'ROC AUC score': round(auroc_mean_15,3)},index=['15'])\n",
    "results = pd.concat([results, tempResultsDf])\n",
    "results"
   ]
  },
  {
   "cell_type": "markdown",
   "id": "0d0b5fc2",
   "metadata": {},
   "source": [
    "Wynik pozostał taki sam.\n"
   ]
  },
  {
   "cell_type": "markdown",
   "id": "b0c6b5f1",
   "metadata": {},
   "source": [
    "### Light GBM Grid Search"
   ]
  },
  {
   "cell_type": "markdown",
   "id": "8f1a1a5d",
   "metadata": {},
   "source": [
    "Manipuluję parametrami, jednak ze względu na czas obliczeniowy dzielę to na dwie tury, pozostawiając częśc parametrów stałych."
   ]
  },
  {
   "cell_type": "markdown",
   "id": "6add4a49",
   "metadata": {},
   "source": [
    "dla parametrów:\n",
    "  - 'num_leaves' default = 31\n",
    "  - 'max_depth': [-1, 5, 10],\n",
    "  - 'min_child_samples': [20, 40, 60, 80, 100],\n",
    "  - 'max_bin' default = 255\n",
    "  - 'boosting_type': ['dart', 'gbdt', 'goss'],\n",
    "  - 'learning_rate' default = 0.1\n",
    "\n",
    "Najlepszy wynik:\n",
    "\n",
    "Best: 0.6892187140351865 using {'boosting_type': 'dart', 'max_depth': 5, 'min_child_samples': 100}"
   ]
  },
  {
   "cell_type": "code",
   "execution_count": null,
   "id": "7b51551d",
   "metadata": {},
   "outputs": [],
   "source": [
    "train_x, test_x, train_y, test_y = train_test_split(df_x, df_y, random_state=0, stratify = df_y)\n",
    "LGBMmodel_16 = lgb.LGBMClassifier(random_state = 0)\n",
    "\n",
    "grid = {\n",
    "    'max_depth': [5],\n",
    "    'min_child_samples': [100, 120, 140, 200],\n",
    "    'boosting_type': ['dart'],\n",
    "}\n",
    "cv = RepeatedStratifiedKFold(n_splits=10, n_repeats=3, random_state=1)\n",
    "\n",
    "grid_search = GridSearchCV(estimator=LGBMmodel_16, param_grid=grid, n_jobs=-1, cv=cv, scoring='roc_auc',error_score=0)\n",
    "grid_result = grid_search.fit(train_x, np.ravel(train_y))\n",
    "\n",
    "print(f\"Best: {grid_result.best_score_} using {grid_result.best_params_}\")\n",
    "means = grid_result.cv_results_['mean_test_score']\n",
    "stds = grid_result.cv_results_['std_test_score']\n",
    "params = grid_result.cv_results_['params']\n",
    "for mean, stdev, param in zip(means, stds, params):\n",
    "    print(\"%f (%f) with: %r\" % (mean, stdev, param))    "
   ]
  },
  {
   "cell_type": "markdown",
   "id": "522a1500",
   "metadata": {},
   "source": [
    "Ustawiam więc 'boosting_type': 'dart', 'max_depth': 5, 'min_child_samples': 100\n",
    "\n",
    "Następna część hiperparametrów:\n",
    "\n",
    "przy tych parametrach:\n",
    "- 'num_leaves': [50, 70, 90, 110], # less then 2^max_depth, default 31, large may cause overfitting\n",
    "- 'max_bin': [200, 350, 500], # default is 255, larger for better accuracy\n",
    "- 'learning_rate': [0.01, 0.05, 0.1, 0.3] # small for better accuracy, default 0.1\n",
    "\n",
    "Best: 0.68876 using {'learning_rate': 0.1, 'max_bin': 200, 'num_leaves': 50}\n",
    "\n",
    "przy kolejnych:\n",
    "- 'num_leaves': [20, 31, 50, 70], # less then 2^max_depth, default 31, large may cause overfitting\n",
    "- 'max_bin': [150, 200, 350], # default is 255, larger for better accuracy\n",
    "- 'learning_rate': [0.05, 0.1] # small for better accuracy, default 0.1\n",
    "\n",
    "Best: 0.6895239010483522 using {'learning_rate': 0.1, 'max_bin': 350, 'num_leaves': 20}\n",
    "\n",
    "przy kolejnych:\n",
    "- 'num_leaves': [8, 9, 10, 15, 20, 31], # less then 2^max_depth, default 31, large may cause overfitting\n",
    "- 'max_bin': [200, 350, 400, 450], # default is 255, larger for better accuracy\n",
    "- 'learning_rate': [0.1] # small for better accuracy, default 0.1\n",
    "\n",
    "Best: 0.6904702388372592 using {'learning_rate': 0.1, 'max_bin': 200, 'num_leaves': 10}"
   ]
  },
  {
   "cell_type": "code",
   "execution_count": null,
   "id": "e53da672",
   "metadata": {},
   "outputs": [],
   "source": [
    "LGBMmodel_17 = lgb.LGBMClassifier(random_state = 0, boosting_type='dart', max_depth = 5, min_child_samples = 100)\n",
    "\n",
    "grid = {    \n",
    "    'num_leaves': [8, 9, 10],\n",
    "    'max_bin': [200],\n",
    "    'learning_rate': [0.1]\n",
    "}\n",
    "cv = RepeatedStratifiedKFold(n_splits=10, n_repeats=3, random_state=1)\n",
    "\n",
    "grid_search = GridSearchCV(estimator=LGBMmodel_17, param_grid=grid, n_jobs=-1, cv=cv, scoring='roc_auc',error_score=0)\n",
    "grid_result = grid_search.fit(train_x, np.ravel(train_y))\n",
    "print(f\"Best: {grid_result.best_score_} using {grid_result.best_params_}\")\n",
    "means = grid_result.cv_results_['mean_test_score']\n",
    "stds = grid_result.cv_results_['std_test_score']\n",
    "params = grid_result.cv_results_['params']\n",
    "for mean, stdev, param in zip(means, stds, params):\n",
    "    print(\"%f (%f) with: %r\" % (mean, stdev, param))"
   ]
  },
  {
   "cell_type": "markdown",
   "id": "16046e43",
   "metadata": {},
   "source": [
    "Wybieram więc ostateczne hiperparametry i trenuję z nimi model raz jeszcze."
   ]
  },
  {
   "cell_type": "code",
   "execution_count": null,
   "id": "8a7c8d4d",
   "metadata": {},
   "outputs": [],
   "source": [
    "LGBMmodel_18 = lgb.LGBMClassifier(\n",
    "    random_state = 0,\n",
    "     num_leaves = 10,\n",
    "     max_depth = 5,\n",
    "     min_child_samples = 100,\n",
    "     max_bin = 200,\n",
    "     boosting_type = 'dart',\n",
    "     learning_rate = 0.1\n",
    ")\n",
    "\n",
    "skf = StratifiedKFold(n_splits=10, shuffle=True, random_state=1)\n",
    "list_auroc_stratified = []\n",
    "\n",
    "array_x = df_x.to_numpy()\n",
    "array_y = df_y.to_numpy()\n",
    "\n",
    "for train_index, test_index in skf.split(df_x, df_y):\n",
    "    x_train_fold, x_test_fold = array_x[train_index], array_x[test_index]\n",
    "    y_train_fold, y_test_fold = array_y[train_index], array_y[test_index]\n",
    "    LGBMmodel_18.fit(x_train_fold, np.ravel(y_train_fold))\n",
    "    list_auroc_stratified.append(roc_auc_score(y_test_fold, LGBMmodel_18.predict_proba(x_test_fold)[:,1]))\n",
    "\n",
    "print('List of aurocs:', list_auroc_stratified)\n",
    "auroc_mean_18 = np.mean(list_auroc_stratified)\n",
    "print('\\nMean AUROC:', round((auroc_mean_18)*100, 3), '%')"
   ]
  },
  {
   "cell_type": "markdown",
   "id": "e8023cd5",
   "metadata": {},
   "source": [
    "To jest mój ostateczny model z wynikiem 68,869% - jak widać optymalizacja hiperparametrów nie poprawiła wyniku wyraźnie. Jest to prawdopodobnie maksimum, które można otrzymac przy danym zbiorze."
   ]
  }
 ],
 "metadata": {
  "kernelspec": {
   "display_name": "Python 3 (ipykernel)",
   "language": "python",
   "name": "python3"
  },
  "language_info": {
   "codemirror_mode": {
    "name": "ipython",
    "version": 3
   },
   "file_extension": ".py",
   "mimetype": "text/x-python",
   "name": "python",
   "nbconvert_exporter": "python",
   "pygments_lexer": "ipython3",
   "version": "3.9.12"
  }
 },
 "nbformat": 4,
 "nbformat_minor": 5
}
